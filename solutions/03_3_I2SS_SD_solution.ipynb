{
 "cells": [
  {
   "cell_type": "markdown",
   "metadata": {},
   "source": [
    "# 3 Introduction to Summary Statistics\n",
    "\n",
    "\n",
    "***\n",
    "# 3.3 Variance and standard deviation\n",
    "---\n",
    "\n",
    "Once again, let's look at the 2008 swing state data on the county level and think about other summary statistics we can calculate.\n",
    "\n",
    "<img src=\"img/swarm_mean_ex.png\",width=500>\n",
    "\n",
    "In this bee swarm plot, I also show the means of each state with a horitzontal line. \n",
    "\n",
    "In looking at this plot, the mean seems to capture the magnitude of the data, but **what about the variability, or the spread, of the data?**\n",
    "\n",
    "By just looking into the swarm plot, \n",
    "> * Florida seems to have more county-to-county variability than Pennsylvania or Ohio. \n",
    "\n",
    "### Variance\n",
    "We can quantify this spread with the variance. The **variance** is the average of the squared distance from the mean. \n",
    "\n",
    "$$ variance = \\frac{1}{n} \\sum_{i=1}^{n} \\left( x_i - \\overline{x} \\right)^{2} $$\n",
    "\n",
    "Informally, the variance is a measure of the spread of the data. Let's parse that more carefully with a graphical example, looking specifically at Florida.\n",
    "\n",
    "<img src=\"img/variance.png\",width=900>\n",
    "\n",
    "For each data point, we square the distance from the mean, and then take the average of all these values.\n",
    "\n",
    "### ```variance``` with NumPy\n",
    "Calculation of the variance is implemented in the ```np.var()``` function.\n",
    "```python\n",
    "In [1]: ma_state_FL = pd_data['state'] == \"FL\"\n",
    "In [2]:dem_share_FL = pd_data[ma_state_FL]['dem_share']\n",
    "    \n",
    "In [3]: var_dem_share_FL = np.var( dem_share_FL )\n",
    "In [4]: var_dem_share_FL\n",
    "Out[4]: 147.44278618846067\n",
    "\n",
    "```\n",
    "\n",
    "<div class=\"alert alert-block alert-info\">\n",
    "<b>Standard Deviation.</b> Note that because the calculation of the variance involves squared quantities, it does not have the same units of what we have measured (the mean or median, or the percentiles). Therefore we are interested in the square root of the variance, which is called the standard deviation.\n",
    "</div>\n",
    "\n",
    "$$ \\sigma = \\sqrt{variance} = \\sqrt{ \\frac{1}{n} \\sum_{i=1}^{n} \\left( x_i - \\overline{x} \\right)^{2} } $$\n",
    "\n",
    "### ```std``` with NumPy\n",
    "\n",
    "```python\n",
    "In [1]: std_dem_share_FL = np.sqrt( var_dem_share_FL )\n",
    "Out[1]: 12.142602117687158\n",
    "    \n",
    "In [2]: np.std( dem_share_FL )\n",
    "Out[2]: 12.142602117687158\n",
    "```\n",
    "\n",
    "The results are the same as taking the square root of the variance, or using the numpy function ```np.std()```\n",
    "\n",
    "\n",
    "**Now, when we look at the previous plot, we see that the deviation is a reasonable metric for hte typical spread of the data**"
   ]
  },
  {
   "cell_type": "markdown",
   "metadata": {},
   "source": [
    "# Let's practice!\n",
    "***\n",
    "\n",
    "<div class=\"alert alert-block alert-success\">\n",
    "<b>Loading data.</b> In the following ipython cell, the necessary data set for this section is loaded\n",
    "</div>"
   ]
  },
  {
   "cell_type": "code",
   "execution_count": 13,
   "metadata": {},
   "outputs": [],
   "source": [
    "# all packages are already loaded\n",
    "import numpy as np\n",
    "from matplotlib import pyplot as plt\n",
    "import seaborn as sns\n",
    "sns.set()\n",
    "\n",
    "# Loading data in the namespace\n",
    "# columns info: row,petal length (cm),petal width (cm),sepal length (cm),sepal width (cm),species\n",
    "iris = np.genfromtxt( \"data/iris.csv\", delimiter=\",\", skip_header=1)\n",
    "\n",
    "# Select features for the versicolor type of iris\n",
    "# species info: \n",
    "#       0 for versicolor\n",
    "#       1 for setosa\n",
    "#       2 for virginica\n",
    "versicolor = iris[:,5]== 0\n",
    "versicolor_petal_length = iris[versicolor,1]\n",
    "\n",
    "setosa = iris[:,5]== 1\n",
    "setosa_petal_length = iris[setosa,1]\n",
    "\n",
    "virginica = iris[:,5]== 2\n",
    "virginica_petal_length = iris[virginica,1]"
   ]
  },
  {
   "cell_type": "markdown",
   "metadata": {},
   "source": [
    "<font color=green>\n",
    "# Exercise 3.1 Computing the variance\n",
    "</font>\n",
    "It is important to have some understanding of what commonly-used functions are doing under the hood. Though you may already know how to compute variances, this is a beginner course that does not assume so. In this exercise, we will explicitly compute the variance of the petal length of Iris veriscolor using the equations discussed in the videos. We will then use ```np.var()``` to compute it.\n",
    "\n",
    "#### Instructions\n",
    "> - Create an array called differences that is the difference between the petal lengths (versicolor_petal_length) and the mean petal length. The variable versicolor_petal_length is already in your namespace as a NumPy array so you can take advantage of NumPy's vectorized operations.\n",
    "> - Square each element in this array. For example, x**2 squares each element in the array x. Store the result as diff_sq.\n",
    "> - Compute the mean of the elements in diff_sq using np.mean(). Store the result as variance_explicit.\n",
    "> - Compute the variance of versicolor_petal_length using np.var(). Store the result as variance_np.\n",
    "> - Print both variance_explicit and variance_np in one print call to make sure they are consistent.\n"
   ]
  },
  {
   "cell_type": "code",
   "execution_count": 14,
   "metadata": {},
   "outputs": [
    {
     "name": "stdout",
     "output_type": "stream",
     "text": [
      "\n",
      "\t variance:  explicit 0.121764 vs numpy.var function 0.121764 \n",
      "\n"
     ]
    }
   ],
   "source": [
    "# Array of differences to mean: differences\n",
    "differences = versicolor_petal_length -  versicolor_petal_length.mean() \n",
    "\n",
    "# Square the differences: diff_sq\n",
    "diff_sq = differences**2\n",
    "\n",
    "# Compute the mean square difference: variance_explicit\n",
    "variance_explicit = np.mean( diff_sq )\n",
    "\n",
    "# Compute the variance using NumPy: variance_np\n",
    "variance_np = np.var( versicolor_petal_length )\n",
    "\n",
    "# Print the results\n",
    "print \"\\n\\t variance:  explicit {0} vs numpy.var function {1} \\n\".format(variance_explicit, variance_np)"
   ]
  },
  {
   "cell_type": "markdown",
   "metadata": {},
   "source": [
    "<font color=green>\n",
    "# Exercise 3.2 The Standard Deviation and the variance\n",
    "</font>\n",
    "As mentioned before, the _standard deviation_ is the square root of the variance. You will see this for yourself by computing the standard deviation using ```np.std()``` and comparing it to what you get by computing the variance with ```np.var()``` and then computing the square root.\n",
    "\n",
    "#### Instructions\n",
    "> - Compute the variance of the data in the ```versicolor_petal_length``` array using ```np.var()``` and store it in a variable called variance.\n",
    "\n",
    "> - Print the square root of this value.\n",
    "\n",
    "> - Print the standard deviation of the data in the ```versicolor_petal_length``` array using ```np.std()```."
   ]
  },
  {
   "cell_type": "code",
   "execution_count": 15,
   "metadata": {},
   "outputs": [
    {
     "name": "stdout",
     "output_type": "stream",
     "text": [
      "\n",
      "\t SD of variance is  0.348946987378\n",
      "\n",
      "\t SD by using the numpy function  0.348946987378\n"
     ]
    }
   ],
   "source": [
    "# Compute the variance: variance\n",
    "variance = np.var( versicolor_petal_length )\n",
    "\n",
    "# Print the square root of the variance\n",
    "print \"\\n\\t SD of variance is \", np.sqrt(variance)\n",
    "\n",
    "# Print the standard deviation\n",
    "print \"\\n\\t SD by using the numpy function \", np.std(versicolor_petal_length)"
   ]
  },
  {
   "cell_type": "markdown",
   "metadata": {},
   "source": []
  }
 ],
 "metadata": {
  "kernelspec": {
   "display_name": "Python 2",
   "language": "python",
   "name": "python2"
  },
  "language_info": {
   "codemirror_mode": {
    "name": "ipython",
    "version": 2
   },
   "file_extension": ".py",
   "mimetype": "text/x-python",
   "name": "python",
   "nbconvert_exporter": "python",
   "pygments_lexer": "ipython2",
   "version": "2.7.13"
  }
 },
 "nbformat": 4,
 "nbformat_minor": 2
}
