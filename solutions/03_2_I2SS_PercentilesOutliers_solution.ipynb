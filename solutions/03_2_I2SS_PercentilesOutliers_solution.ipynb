{
 "cells": [
  {
   "cell_type": "markdown",
   "metadata": {},
   "source": [
    "# 3 Introduction to Summary Statistics\n",
    "\n",
    "\n",
    "***\n",
    "# 3.2 Percentiles, outliers, and box plots\n",
    "---\n",
    "\n",
    "\n",
    "As all of you probably now, the median is the special name for the 50th percentile; that is 50% of the data are less than the median. \n",
    "\n",
    "Similarly, the 25th percentile is the value of the data point that is greater than 25% of the sorted data, and so on for any other percentile we want.  \n",
    "\n",
    "<img src=\"img/ECDF_percentile_ex.png\",width=500>\n",
    "\n",
    "#### ```percentile``` with NumPy\n",
    "Percertiles are useful summary statistics, and can be computed by calling the function ```np.percentile```. We just pass a list of the percentiles we want, **percentiles, not fractions**, and it returns the data that match those percentiles\n",
    "\n",
    "```python\n",
    "\n",
    "In [1]: pd_data = pd.read_csv(\"data/2008_swing_states.csv\")\n",
    "In [2]: pd_data_PA = pd_data[pd_data['state']==\"PA\"]\n",
    "In [3]: dem_share_PA = pd_data_PA[\"dem_share\"].values\n",
    "    \n",
    "In [4]: np.percentile( dem_share_PA, [25,50,75])\n",
    "Out[4]: array([ 37.3025,  43.185 ,  49.925])\n",
    "    \n",
    "```\n",
    "\n",
    "We now have three summary statistics. The hole point of summary statistics was to keep things concise, but we are starting to get a lot of numbers here.\n",
    "\n",
    "### 2.1 Box plots: interquartile range (IQR)\n",
    "\n",
    "<font color=red> Dealing with this issue is where quantitative EDA meets graphical EDA. Box plots were invented by John Tukey himself to display some of the salient features of a data set based on percentiles.\n",
    "</font>\n",
    "\n",
    "<img src=\"img/box_plot_percentile_ex.png\",width=450>\n",
    "\n",
    "Here we see a box pot showing Obama's vote share from states east and west of Mississipi River. \n",
    "- The center of the box is the median, which we know is the percentile of the data\n",
    "- The edges of the box are the 25th and 75th percentile\n",
    "- The total height of the box contains the middle 50% of the data, and is called the **interquartile range**, or **IQR**\n",
    "- The whiskers extend a distance of $$1.5\\times IQR$$ or to the extent of the data, whichever is less extreme\n",
    "- Finally, any points outside of the whiskers are plotted as individual points, **which we often demarcate as outliers**\n",
    "\n",
    "\n",
    "#### Common Outlier Criterion\n",
    "While there is no single definition for an outlier, **being more than 2 IQRs away from the median** is a common criterion.\n",
    "\n",
    "It is important to remember that **an outlier is not necessarily an erroneous data point**. You should not assume an outlier is erroneous unless you have some known reason to.\n",
    "\n",
    "In this example, since there is zero evidence of any substantial voter fraud in the United States in 2008 elections, these outliers are not erroneous. They are just data points with extreme values.\n",
    "\n",
    "When the number of data are very large and bee swarm plots are too cluttered, as the one we shown in last section\n",
    "\n",
    "<img src=\"img/beeswarm_limitation_ex.png\",width=400>\n",
    "\n",
    "box plots are a great alternative. It makes sense, then, that constructing a box plot using ```seaborn``` is exactly the same as making a bee swarm plot. \n",
    "\n",
    "### Generating a box plot: percentiles\n",
    "We just call the function ```sns.boxplot()``` with arguments the values for x and y-axis:\n",
    "```python\n",
    "from matplotlib import pyplot as plt\n",
    "import seaborn as sns\n",
    "sns.set()\n",
    "\n",
    "east_west = pd_data['east_west'].values\n",
    "dem_share = pd_data['dem_share'].values\n",
    "\n",
    "_ = sns.boxplot( x= east_west, y=dem_share)\n",
    "_ = plt.xlabel('region')\n",
    "_ = plt.ylabel('percent of vote for Obama')\n",
    "plt.show()\n",
    "```\n",
    "#### Instructions\n",
    "> - Copy these code and see the resulting **box plot** with its percentiles, all in one plot!"
   ]
  },
  {
   "cell_type": "code",
   "execution_count": 2,
   "metadata": {},
   "outputs": [
    {
     "data": {
      "image/png": "[encoded data removed]",
      "text/plain": [
       "<matplotlib.figure.Figure at 0x7f0f57ea9e90>"
      ]
     },
     "metadata": {},
     "output_type": "display_data"
    }
   ],
   "source": [
    "from matplotlib import pyplot as plt\n",
    "import seaborn as sns\n",
    "sns.set()\n",
    "\n",
    "\n",
    "import pandas as pd\n",
    "\n",
    "pd_data = pd.read_csv(\"data/2008_all_states.csv\")\n",
    "\n",
    "\n",
    "east_west = pd_data['east_west'].values\n",
    "dem_share = pd_data['dem_share'].values\n",
    "\n",
    "_ = sns.boxplot( x= east_west, y=dem_share)\n",
    "_ = plt.xlabel('region')\n",
    "_ = plt.ylabel('percent of vote for Obama')\n",
    "plt.show()"
   ]
  },
  {
   "cell_type": "markdown",
   "metadata": {},
   "source": [
    "# Let's practice!\n",
    "***\n",
    "\n",
    "<div class=\"alert alert-block alert-success\">\n",
    "<b>Data Set.</b> In the following ipython cell, the necessary data set for this section is loaded\n",
    "</div>"
   ]
  },
  {
   "cell_type": "code",
   "execution_count": 5,
   "metadata": {},
   "outputs": [],
   "source": [
    "# all packages are already loaded\n",
    "# import numpy as np\n",
    "# from matplotlib import pyplot as plt\n",
    "# import seaborn as sns\n",
    "# sns.set()\n",
    "\n",
    "# Loading data in the namespace\n",
    "# columns info: row,petal length (cm),petal width (cm),sepal length (cm),sepal width (cm),species\n",
    "iris = np.genfromtxt( \"data/iris.csv\", delimiter=\",\", skip_header=1)\n",
    "\n",
    "# Select features for the versicolor type of iris\n",
    "# species info: \n",
    "#       0 for versicolor\n",
    "#       1 for setosa\n",
    "#       2 for virginica\n",
    "versicolor = iris[:,5]== 0\n",
    "versicolor_petal_length = iris[versicolor,1]\n",
    "\n",
    "setosa = iris[:,5]== 1\n",
    "setosa_petal_length = iris[setosa,1]\n",
    "\n",
    "virginica = iris[:,5]== 2\n",
    "virginica_petal_length = iris[virginica,1]"
   ]
  },
  {
   "cell_type": "markdown",
   "metadata": {},
   "source": [
    "<font color=green>\n",
    "# Exercise 2.1 Computing percentiles with NumPy\n",
    "</font>\n",
    "In this exercise, you will compute the percentiles of petal length of Iris versicolor.\n",
    "\n",
    "#### Instructions\n",
    "> - Create percentiles, a NumPy array of percentiles you want to compute. These are the 2.5th, 25th, 50th, 75th, and 97.5th. You can do so by creating a list containing these ints/floats and convert the list to a NumPy array using np.array(). For example, np.array([30, 50]) would create an array consisting of the 30th and 50th percentiles.\n",
    "> - Use np.percentile() to compute the percentiles of the petal lengths from the Iris versicolor samples. The variable versicolor_petal_length is in your namespace.\n",
    "> - Print the percentiles."
   ]
  },
  {
   "cell_type": "code",
   "execution_count": 6,
   "metadata": {},
   "outputs": [
    {
     "name": "stdout",
     "output_type": "stream",
     "text": [
      "\n",
      "\t The percentiles [  2.5  25.   50.   75.   97.5] for the petal length of the versicolor iris are [ 4.4  4.8  5.   5.2  5.7], respectively\n"
     ]
    }
   ],
   "source": [
    "import numpy as np\n",
    "\n",
    "# Specify array of percentiles: percentiles\n",
    "percentiles = np.array([2.5,25,50,75,97.5])\n",
    "\n",
    "# Compute percentiles: ptiles_vers\n",
    "percentiles_vers = np.percentile(versicolor_petal_length, percentiles)\n",
    "\n",
    "# Print the result\n",
    "print \"\\n\\t The percentiles {0} for the petal length of the versicolor iris are {1}, respectively\".format(\n",
    "    percentiles, percentiles_vers)"
   ]
  },
  {
   "cell_type": "markdown",
   "metadata": {},
   "source": [
    "<font color=green>\n",
    "# Exercise 2.2 Comparing percentiles to ECDF\n",
    "</font>\n",
    "To see how the percentiles relate to the ECDF, you will plot the percentiles of Iris versicolor petal lengths you calculated in the last exercise on the ECDF plot you generated in the previous section. \n",
    "\n",
    "Note that to ensure the Y-axis of the ECDF plot remains between 0 and 1, you will need to rescale the percentiles array accordingly - in this case, dividing it by 100."
   ]
  },
  {
   "cell_type": "code",
   "execution_count": 7,
   "metadata": {},
   "outputs": [],
   "source": [
    "def ecdf(data):\n",
    "    \"\"\"Compute ECDF for a one-dimensional array of measurements.\"\"\"\n",
    "    # Number of data points: n\n",
    "    n = len(data)\n",
    "\n",
    "    # x-data for the ECDF: x\n",
    "    x = np.sort(data)\n",
    "\n",
    "    # y-data for the ECDF: y\n",
    "    y = np.arange(1, n+1) / float(n)\n",
    "\n",
    "    return x, y\n"
   ]
  },
  {
   "cell_type": "markdown",
   "metadata": {},
   "source": [
    "#### Instructions\n",
    "> - Use the function ```ecdf()``` to compute the x and y axis, to plot the ECDF for the petal length of the Versatoil Iris specie\n",
    "> - Add the percentiles to the plot: the percentiles as red diamonds on the ECDF. Pass the x and y coordinates: percentiles_vers and percentiles/100 - as positional arguments; and specify the marker='D', color='red' and linestyle='none' keyword arguments.\n",
    "> - Display the plot.\n",
    "**Do not forget to label the axes!**"
   ]
  },
  {
   "cell_type": "code",
   "execution_count": 8,
   "metadata": {},
   "outputs": [
    {
     "data": {
      "image/png": "[encoded data removed]",
      "text/plain": [
       "<matplotlib.figure.Figure at 0x7f0f57db72d0>"
      ]
     },
     "metadata": {},
     "output_type": "display_data"
    }
   ],
   "source": [
    "x_vers, y_vers = ecdf(versicolor_petal_length)\n",
    "\n",
    "# Plot the ECDF\n",
    "_ = plt.plot(x_vers, y_vers, '.', color=\"black\")\n",
    "_ = plt.xlabel('petal length (cm)')\n",
    "_ = plt.ylabel('ECDF')\n",
    "\n",
    "# Overlay percentiles as red diamonds.\n",
    "_ = plt.plot(percentiles_vers, percentiles/100, marker='D', color='red', linestyle=\"none\")\n",
    "\n",
    "# Show the plot\n",
    "plt.show()"
   ]
  },
  {
   "cell_type": "markdown",
   "metadata": {},
   "source": [
    "<font color=green>\n",
    "# Exercise 2.3 Box-and-whisker plot\n",
    "</font>\n",
    "Making a box plot for the petal lengths is unnecessary because the iris data set is not too large and the bee swarm plot works fine. However, it is always good to get some practice. Make a box plot of the **iris petal lengths**. You have a ndarray ```iris```, which contains the petal length data (2nd column), in your namespace. \n",
    "\n",
    "Go to **Exercise 1.1** and inspect the data to make sure you know what the pertinent columns are.\n",
    "\n",
    "For your reference, the code used to produce the box plot in the previous sections is provided below:\n",
    "\n",
    "```python\n",
    "east_west = pd_data['east_west'].values\n",
    "dem_share = pd_data['dem_share'].values\n",
    "\n",
    "_ = sns.boxplot( x= east_west, y=dem_share)\n",
    "_ = plt.xlabel('region')\n",
    "_ = plt.ylabel('percent of vote for Obama')\n",
    "plt.show()\n",
    "\n",
    "```\n",
    "\n",
    "In the IPython cell, you can use sns.boxplot? or help(sns.boxplot) for more details on how to make box plots using ```seaborn```.\n",
    "\n",
    "#### Instructions\n",
    "> - The set-up is exactly the same as for the bee swarm plot; you just call sns.boxplot() with the same keyword arguments as you would sns.swarmplot(). The x-axis is 'species' and y-axis is 'petal length (cm)'.\n",
    "> - Don't forget to label your axes!\n",
    "> - Display the figure using the normal call.\n",
    "\n"
   ]
  },
  {
   "cell_type": "code",
   "execution_count": 9,
   "metadata": {},
   "outputs": [
    {
     "data": {
      "image/png": "[encoded data removed]",
      "text/plain": [
       "<matplotlib.figure.Figure at 0x7f0f84164e10>"
      ]
     },
     "metadata": {},
     "output_type": "display_data"
    }
   ],
   "source": [
    "# Create box plot with Seaborn's default settings\n",
    "sns.set()\n",
    "_ = sns.boxplot(x=iris[:,5], y=iris[:,1])\n",
    "\n",
    "# Label the axes\n",
    "_ = plt.xlabel(\"species\")\n",
    "_ = plt.ylabel(\"petal length (cm)\")\n",
    "\n",
    "# Show the plot\n",
    "plt.show()"
   ]
  }
 ],
 "metadata": {
  "kernelspec": {
   "display_name": "Python 2",
   "language": "python",
   "name": "python2"
  },
  "language_info": {
   "codemirror_mode": {
    "name": "ipython",
    "version": 2
   },
   "file_extension": ".py",
   "mimetype": "text/x-python",
   "name": "python",
   "nbconvert_exporter": "python",
   "pygments_lexer": "ipython2",
   "version": "2.7.13"
  }
 },
 "nbformat": 4,
 "nbformat_minor": 2
}
