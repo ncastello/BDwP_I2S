{
 "cells": [
  {
   "cell_type": "markdown",
   "metadata": {
    "collapsed": true
   },
   "source": [
    "# Graphycal Exploratory Data Analysis\n",
    "\n",
    "\n",
    "<font color=grey>\n",
    "You can observe a lot by watching</font>– Yogi Berra\n",
    "\n",
    "The same is true with data, if you can properly display your data, you can already to draw conclusions from it I am going even further, exploring your data is a crucial step in your analysis.\n",
    "\n",
    "The process of organizing, plotting, and summarizing a data set is known as **exploratory data analysis**, or EDA, and was developed by one of the greatest statistitians of all time, John Turkey.\n",
    "\n",
    "\n",
    "<font color=grey>\n",
    "Exploratory data analysis can never be the whole story, but nothing else can serve as the foundation stone.</font>– John W. Tukey\n",
    "\n",
    "<font color=\"orange\">\n",
    "# Why is EDA so important?\n",
    "</font>\n",
    "..."
   ]
  },
  {
   "cell_type": "markdown",
   "metadata": {},
   "source": [
    "# Objectives of EDA\n",
    "***\n",
    "Exploratory Data Analysis (EDA) is an approach/philosophy for data analysis that employs a variety of techniques (mostly graphical) to maximize\n",
    "\n",
    "1. insight into a data set;\n",
    "2. uncover underlying structure;\n",
    "3. extract important variables;\n",
    "4. detect outliers and anomalies;\n",
    "5. test underlying assumptions;\n",
    "6. develop parsimonious models; and\n",
    "7. determine optimal factor settings.\n"
   ]
  },
  {
   "cell_type": "markdown",
   "metadata": {},
   "source": [
    "# Let's consider an example\n",
    "***\n",
    "\n",
    "\n",
    "### Elections results from 2008 \n",
    "at the county lebel in each of the three major swing states of Pennsylvania, Ohia, and Florida\n",
    "\n",
    "<img src=\"img/2008_elec_table.png\",width=600>\n",
    "\n",
    "This is how looks like when I am using ```pandas``` to look into the table (in the next sessions you will learn a lot more about this package)"
   ]
  },
  {
   "cell_type": "code",
   "execution_count": 1,
   "metadata": {
    "scrolled": true
   },
   "outputs": [
    {
     "data": {
      "text/html": [
       "<div>\n",
       "<table border=\"1\" class=\"dataframe\">\n",
       "  <thead>\n",
       "    <tr style=\"text-align: right;\">\n",
       "      <th></th>\n",
       "      <th>state</th>\n",
       "      <th>county</th>\n",
       "      <th>total_votes</th>\n",
       "      <th>dem_votes</th>\n",
       "      <th>rep_votes</th>\n",
       "      <th>dem_share</th>\n",
       "    </tr>\n",
       "  </thead>\n",
       "  <tbody>\n",
       "    <tr>\n",
       "      <th>0</th>\n",
       "      <td>PA</td>\n",
       "      <td>Erie County</td>\n",
       "      <td>127691</td>\n",
       "      <td>75775</td>\n",
       "      <td>50351</td>\n",
       "      <td>60.08</td>\n",
       "    </tr>\n",
       "    <tr>\n",
       "      <th>1</th>\n",
       "      <td>PA</td>\n",
       "      <td>Bradford County</td>\n",
       "      <td>25787</td>\n",
       "      <td>10306</td>\n",
       "      <td>15057</td>\n",
       "      <td>40.64</td>\n",
       "    </tr>\n",
       "    <tr>\n",
       "      <th>2</th>\n",
       "      <td>PA</td>\n",
       "      <td>Tioga County</td>\n",
       "      <td>17984</td>\n",
       "      <td>6390</td>\n",
       "      <td>11326</td>\n",
       "      <td>36.07</td>\n",
       "    </tr>\n",
       "    <tr>\n",
       "      <th>3</th>\n",
       "      <td>PA</td>\n",
       "      <td>McKean County</td>\n",
       "      <td>15947</td>\n",
       "      <td>6465</td>\n",
       "      <td>9224</td>\n",
       "      <td>41.21</td>\n",
       "    </tr>\n",
       "    <tr>\n",
       "      <th>4</th>\n",
       "      <td>PA</td>\n",
       "      <td>Potter County</td>\n",
       "      <td>7507</td>\n",
       "      <td>2300</td>\n",
       "      <td>5109</td>\n",
       "      <td>31.04</td>\n",
       "    </tr>\n",
       "    <tr>\n",
       "      <th>5</th>\n",
       "      <td>PA</td>\n",
       "      <td>Wayne County</td>\n",
       "      <td>22835</td>\n",
       "      <td>9892</td>\n",
       "      <td>12702</td>\n",
       "      <td>43.78</td>\n",
       "    </tr>\n",
       "    <tr>\n",
       "      <th>6</th>\n",
       "      <td>PA</td>\n",
       "      <td>Susquehanna County</td>\n",
       "      <td>19286</td>\n",
       "      <td>8381</td>\n",
       "      <td>10633</td>\n",
       "      <td>44.08</td>\n",
       "    </tr>\n",
       "    <tr>\n",
       "      <th>7</th>\n",
       "      <td>PA</td>\n",
       "      <td>Warren County</td>\n",
       "      <td>18517</td>\n",
       "      <td>8537</td>\n",
       "      <td>9685</td>\n",
       "      <td>46.85</td>\n",
       "    </tr>\n",
       "    <tr>\n",
       "      <th>8</th>\n",
       "      <td>OH</td>\n",
       "      <td>Ashtabula County</td>\n",
       "      <td>44874</td>\n",
       "      <td>25027</td>\n",
       "      <td>18949</td>\n",
       "      <td>56.94</td>\n",
       "    </tr>\n",
       "    <tr>\n",
       "      <th>9</th>\n",
       "      <td>OH</td>\n",
       "      <td>Lake County</td>\n",
       "      <td>121335</td>\n",
       "      <td>60155</td>\n",
       "      <td>59142</td>\n",
       "      <td>50.46</td>\n",
       "    </tr>\n",
       "  </tbody>\n",
       "</table>\n",
       "</div>"
      ],
      "text/plain": [
       "  state              county  total_votes  dem_votes  rep_votes  dem_share\n",
       "0    PA         Erie County       127691      75775      50351      60.08\n",
       "1    PA     Bradford County        25787      10306      15057      40.64\n",
       "2    PA        Tioga County        17984       6390      11326      36.07\n",
       "3    PA       McKean County        15947       6465       9224      41.21\n",
       "4    PA       Potter County         7507       2300       5109      31.04\n",
       "5    PA        Wayne County        22835       9892      12702      43.78\n",
       "6    PA  Susquehanna County        19286       8381      10633      44.08\n",
       "7    PA       Warren County        18517       8537       9685      46.85\n",
       "8    OH    Ashtabula County        44874      25027      18949      56.94\n",
       "9    OH         Lake County       121335      60155      59142      50.46"
      ]
     },
     "execution_count": 1,
     "metadata": {},
     "output_type": "execute_result"
    }
   ],
   "source": [
    "import pandas as pd\n",
    "pd_data = pd.read_csv(\"data/2008_swing_states.csv\")\n",
    "\n",
    "# loading data into NumPy Arrays\n",
    "np_state  = pd_data['state'].values\n",
    "np_county = pd_data['county'].values\n",
    "\n",
    "pd_data.head(10)"
   ]
  },
  {
   "cell_type": "markdown",
   "metadata": {},
   "source": [
    "We could stare these numbers, but I think you will agree that it pretty hopeless to gain any sort of understanding from doing this. \n",
    "\n",
    "Alternatively, we could charge in headlong and start defining and computing parameters and their confidence intervals, and do hypothesis tests. You will learn how to do all of these things in this session and its sequel. *But a good field commander does not just charge into battle without first getting a feel for the terrain and sizing up the opposing army.* So, like the field commander, we should explore the data first. \n",
    "\n",
    "In this part, we will discuss **graphyscal exploratory data analysis**. This involves taking data from tabular form, like we have here in ```np_data```, and representing it graphycally.\n",
    "You are presenting the same information, but it is in a more human-interpretable form.\n",
    "\n",
    "For example, we take the democratic share of the vote in the counties of all of the three swing states (```dem_share```) and **plot them as a histogram**.\n",
    "\n",
    "<img src=\"img/perObamavots.png\",width=400>\n",
    "\n",
    "### By just watching ...\n",
    "- The height of each bar is the number of counties that had the given level of support for Obama. For example, the tallest bar is the number of counties that had between 40% and 50% of its votes cast for Obama.\n",
    "- Because there is more area in the histogram to the left of 50%, we can see that more counties voted for Obama's opponent, John McCain, than voted for Obama.\n",
    "\n",
    "<font color=red>\n",
    "Just by making one plot, we could already draw a conclusion about the data, which would have been extraordinarily tedious by hand counting the data from the table.\n",
    "    </dont>\n"
   ]
  },
  {
   "cell_type": "markdown",
   "metadata": {},
   "source": [
    "# 1. Histogram plot\n",
    "\n",
    "The percent of vote for Obama can be plotted as a histogram using the ```matplotlib.pyplot``` module's hist function.\n",
    "\n",
    "After creating the histogram, we label the axes. **Always label your axes, for histograms or any other king of plot**. Otherwise no one can know what it is you are plotting.\n",
    "\n",
    "#### Read data from a CSV file:"
   ]
  },
  {
   "cell_type": "code",
   "execution_count": 2,
   "metadata": {},
   "outputs": [
    {
     "name": "stdout",
     "output_type": "stream",
     "text": [
      "\n",
      "\t * data type of np_data <type 'numpy.ndarray'>\n",
      "\t * first row of np_data [  1.27691000e+05   7.57750000e+04   5.03510000e+04   6.00800000e+01]\n"
     ]
    }
   ],
   "source": [
    "# Illustration\n",
    "# loading data\n",
    "import numpy as np\n",
    "import matplotlib.pyplot as plt\n",
    "\n",
    "# read the data from a CSV file\n",
    "np_data = np.genfromtxt( \"data/2008_swing_states.csv\", delimiter=\",\", usecols=(2,3,4,5), skip_header=1)\n",
    "\n",
    "print \"\\n\\t * data type of np_data\", type(np_data)\n",
    "print \"\\t * first row of np_data\", np_data[0]"
   ]
  },
  {
   "cell_type": "markdown",
   "metadata": {},
   "source": [
    "#### Plot the distribution of the feature  *dem_share* with ```plt.hist()```:"
   ]
  },
  {
   "cell_type": "code",
   "execution_count": 3,
   "metadata": {},
   "outputs": [
    {
     "data": {
      "image/png": "[encoded data removed]",
      "text/plain": [
       "<matplotlib.figure.Figure at 0x7f995d20ad10>"
      ]
     },
     "metadata": {},
     "output_type": "display_data"
    }
   ],
   "source": [
    "import seaborn as sns\n",
    "sns.set()\n",
    "\n",
    "# plot dem_share (the last column on the table)\n",
    "_ = plt.hist( np_data[:,3], histtype='bar')\n",
    "_ = plt.xlabel('percent of vote for Obama')\n",
    "_ = plt.ylabel('number of counties')\n",
    "plt.show()"
   ]
  },
  {
   "cell_type": "markdown",
   "metadata": {},
   "source": [
    "Note that ```plt.hist``` returns three arrays that I am not interested in; I only want the plot. I therefore assign a dummy variable called *underscore* to them, which is commong practice in **Python**.\n",
    "\n",
    "You probably notice that this plot looks slightly different from the plot just above: \n",
    "- one the one hand, I used the default settings of ```seaborn```, an excellent matplotlib-based statistical data visualization package (just call [```seaborn.set()```](https://seaborn.pydata.org/generated/seaborn.set.html))\n",
    "- the number of bins, in this case is the one by default settings of ```plt.hist```(Nbins=10)\n"
   ]
  },
  {
   "cell_type": "markdown",
   "metadata": {},
   "source": [
    "\n",
    "# 2. Bee swarm plot\n",
    "\n",
    "The histogram of county-level election data was informative. We learn that more counties voted for MaCain than for Obama. Since our goal is to lear from data, this is great! \n",
    "\n",
    "However, a major drawback of using histograms is that **the same data set can look different depending on how the bins are chosen**. And choice of bins is in a way arbitrary.\n",
    "\n",
    "<img src=\"img/Nbins_ex.png\",width=500>\n",
    "\n",
    "### Possible problems with histograms\n",
    "1. This leads to **binning bias**; you might interpret your plot differently for two different choices of bin number.\n",
    "2. An additional problem with histograms is that we are not plotting all of the data. We are sweeping the data into bins, and losing their actual values\n",
    "\n",
    "To remedy these problems and explore more carefully the data, we can make a ***bee swarm plot**. Here an example of this kind of plots, for the vote totals in the three swing states:\n",
    "<img src=\"img/beeswarm_plot.png\",width=500>\n",
    "\n",
    "Each point in the plot represents the share of the vote Obama got in a single county. The position along the y-axis is the quantitative information. The data are spread in x to make them visible, but their precise location along the x-axis is unimportant. Notably, we **no longer have any binning bias and all data are displayed**.\n"
   ]
  },
  {
   "cell_type": "markdown",
   "metadata": {},
   "source": [
    "#### Plotting a bee swarm plot with ```sns.swarmplot()```:\n",
    "To make the plot, you need to specify \n",
    "- which column gives the values for the y-axes, in this case the ```dem_share``` (i.e. column 3 from ```np_data```), and\n",
    "- the values for the x-axes, in this case the state, ```np_state```\n",
    "\n",
    "\n",
    "```python\n",
    "\n",
    "\n",
    "In [1]: np_state = pd_data['state'].values    \n",
    "In [2]: _ = sns.swarmplot( x=np_state, y=np_data[:,3] )    \n",
    "In [3]: _ = plt.xlabel('state')    \n",
    "In [4]: _ = plt.ylabel('percent of vote for Obama')\n",
    "In [5]: plt.show()    \n",
    "    \n",
    "```\n",
    "\n",
    "#### Let's do it:\n",
    "- **np_state** is a 1D array of string with the state (PA, OH, FL) for each np_data row\n",
    "- **np_data** is a 4D array of int and floats with the following attributes: total_votes, dem_votes, rep_votes, and dem_share (column index are 0,1,2, and 3, respectively)"
   ]
  },
  {
   "cell_type": "code",
   "execution_count": 4,
   "metadata": {},
   "outputs": [
    {
     "name": "stdout",
     "output_type": "stream",
     "text": [
      "\n",
      "\t * np_state info: \n",
      "\t   Number of rows (observations):  222\n",
      "\t   There are 3 different states in the sample: set(['PA', 'FL', 'OH'])\n",
      "\n",
      "\t * np_data info: \n",
      "\t   Number of rows (observations):  222\n",
      "\t   Number of attribures/featires in np_data:  4\n"
     ]
    }
   ],
   "source": [
    "# summary of the data\n",
    "print \"\\n\\t * np_state info: \"\n",
    "print \"\\t   Number of rows (observations): \", len(np_state)\n",
    "print \"\\t   There are {0} different states in the sample: {1}\".format(len(set(np_state)), set(np_state))\n",
    "print \"\\n\\t * np_data info: \"\n",
    "print \"\\t   Number of rows (observations): \", np_data.shape[0]\n",
    "print \"\\t   Number of attribures/featires in np_data: \", np_data.shape[1]"
   ]
  },
  {
   "cell_type": "code",
   "execution_count": 5,
   "metadata": {},
   "outputs": [
    {
     "data": {
      "image/png": "[encoded data removed]",
      "text/plain": [
       "<matplotlib.figure.Figure at 0x7f9965477b10>"
      ]
     },
     "metadata": {},
     "output_type": "display_data"
    }
   ],
   "source": [
    "# plot the bee swarm plot for dem_share for all states\n",
    "_ = sns.swarmplot( x=np_state, y=np_data[:,3] )\n",
    "_ = plt.xlabel('state')\n",
    "_ = plt.ylabel('percent of vote for Obama')\n",
    "plt.show()"
   ]
  },
  {
   "cell_type": "markdown",
   "metadata": {},
   "source": [
    "### By just watching ...\n",
    "- From this plot, too, we can clearly see that Obama got less than 50% of the vote in the majority of counties in each of the three swing states.\n",
    "- This time it is more detailed than a histogram, but without too much added visual complexity\n"
   ]
  },
  {
   "cell_type": "markdown",
   "metadata": {},
   "source": [
    "# 3. ECDFs plots\n",
    "\n",
    "<font color=red>There is a limit to the efficacy of the **bee swarm** plot</font>. For example, imagine we wanted to plot the county-level voting data for all states east of the Mississippi River and all states west.\n",
    "\n",
    "<img src=\"img/beeswarm_limitation_ex.png\",width=400>\n",
    "\n",
    "In this case, the edges have overlapping data poitns, which was necessary in order to fit all points onto the plot. We are now obfuscating data. <font color=red>So, using a bee swarm plot here is not the best option.</font>\n",
    "\n",
    "**As an alternative**, we can compute an **empirical cumulative distribution function, or ECDF**. Again, this is best explained by example. Here is a picture of an ECDF of the percentage of swing state votes that went to Obama. \n",
    "\n",
    "<img src=\"img/ECDFs_plot_ex.png\",width=600>\n",
    "\n",
    "\n",
    "#### An ECDF plot needs:\n",
    "- A x-value of an ECDF is the quantity you are measuring, in this case the percent of vote that sent to Obama. \n",
    "- The y-value is the fraction of data points that have a value smaller than the corresponding x-value. The y-axis is evenly spaced data points with a maximum of one\n",
    "\n",
    "#### By just watching ...\n",
    "- For example, 20% of counties in swing states had 36% or less of its people vote for Obama.\n",
    "- Similarly, 75% of counties in swing states had 50% or less of its people vote for Obama\n",
    "\n",
    "#### Plot an ECDF with ```plt.plot()```:\n",
    "- For the x-axis: sort the data you want to compute its empirical cumulative distribution function\n",
    "- For the y-axis: create an array of size the length of your data, and normalize it to 1 as the maximum value of the ECDF (import when you want to compare it with other features/attributes)\n",
    "- Use the plot function from the module ```plt```, and just plot it!\n"
   ]
  },
  {
   "cell_type": "code",
   "execution_count": 6,
   "metadata": {},
   "outputs": [
    {
     "data": {
      "image/png": "[encoded data removed]",
      "text/plain": [
       "<matplotlib.figure.Figure at 0x7f995cec9310>"
      ]
     },
     "metadata": {},
     "output_type": "display_data"
    }
   ],
   "source": [
    "x = np.sort( np_data[:,3] )\n",
    "\n",
    "xsize = len(x)\n",
    "\n",
    "# evenly spaced data points with a maximum of one\n",
    "y = np.arange( 1, xsize+1) / float(xsize)\n",
    "\n",
    "# plot ECDF\n",
    "_ = plt.plot(x, y, marker=\".\", linestyle=\"none\")\n",
    "_ = plt.xlabel('percent of vote of Obama')\n",
    "_ = plt.ylabel('ECDF')\n",
    "\n",
    "# to keep data off plot edges\n",
    "# choosing a value of 0.05 gives a 5% buffer all around the plot\n",
    "plt.margins(0.05)\n",
    "plt.show()\n"
   ]
  },
  {
   "cell_type": "markdown",
   "metadata": {},
   "source": [
    "## 3.1 Making an ECDF plot for several variables\n",
    "\n",
    "Some times is very useful to plot several features at the same plot. Include more than one ECDF is very simple. \n",
    "\n",
    "Let's do the ECDF for the three states Pennsylbania, Ohia and Florida.\n",
    "\n",
    "```python\n",
    "In [1]: for state in ['PA','OH','FL']:\n",
    "In [2]:     x = np.sort(np_data[np_state == state, 3])\n",
    "In [3]:     y = np.arange( 1, len(x)+1) / float(len(x))\n",
    "In [4]:     _ = plt.plot(x, y, marker=\".\", linestyle=\"none\")\n",
    "\n",
    "In [5]: _ = plt.xlabel('percent of vote of Obama')\n",
    "In [6]: _ = plt.ylabel('ECDF')\n",
    "In [7]: plt.legend(('PA', 'OH', 'FL'), loc='lower right')\n",
    "In [8]: plt.margins(0.02)\n",
    "In [9]: plt.show()\n",
    "\n",
    "```\n",
    "\n",
    "<img src=\"img/multiECDFs_ex.png\",width=470>\n",
    "\n",
    "### By watching ...\n",
    "- We see that Ohio and Pennsylvania were similar, with Pennsylvania having slightly more Democratic counties. \n",
    "- Florida, on the other hand, had a greater fraction of heavily Republican counties"
   ]
  },
  {
   "cell_type": "markdown",
   "metadata": {},
   "source": [
    "# Let's Practice!\n",
    "\n",
    "<font color=red>\n",
    "### Load data sets from CSV files: \n",
    "</font>\n",
    "There are several python packages that can read data from a CSV file:\n",
    "\n",
    "> - loadtxt from ```scipy```\n",
    "> - genfromtxt function from ```numpy```\n",
    "> - read_csv function from ```pandas```\n",
    "> - ad function from ```csv```\n",
    "> - ...\n",
    "\n",
    "In this example, i will use the funciton ```np.genfromtxt()``` to load the data set ***data/iris.csv***"
   ]
  },
  {
   "cell_type": "code",
   "execution_count": 16,
   "metadata": {},
   "outputs": [],
   "source": [
    "# load NumPy package as np\n",
    "import numpy as np\n",
    "\n",
    "# load pyplot as plt, and seaborn as sns\n",
    "from matplotlib import pyplot as plt\n",
    "import seaborn as sns\n",
    "\n",
    "# set to the defoult settings asthetics of sns\n",
    "sns.set()\n",
    "\n",
    "iris = np.genfromtxt( \"data/iris.csv\", delimiter=\",\", skip_header=1)\n",
    "\n",
    "# Select features for the versicolor type of iris\n",
    "versicolor = iris[:,5]== 0\n",
    "versicolor_petal_length = iris[versicolor,1]"
   ]
  },
  {
   "cell_type": "markdown",
   "metadata": {},
   "source": [
    "#### Instructions:\n",
    "1. Do the same for the setosa and virginica species:\n",
    "    > 1. create a mask to select only those rows from the setosa specie (i.e. column 6 should be equal to 1)\n",
    "    > 2. create an array for the petal length of the setosa specie and called it ***setosa_petal_length***\n",
    "    > 3. reate a mask to select only those rows from the virginica specie (i.e. column 6 should be equal to 2)\n",
    "    > 4. create an array for the petal length of the setosa specie and called it ***virginica_petal_length***"
   ]
  },
  {
   "cell_type": "code",
   "execution_count": 17,
   "metadata": {},
   "outputs": [],
   "source": [
    "setosa = iris[:,5]== 1\n",
    "setosa_petal_length = iris[setosa,1]\n",
    "\n",
    "virginica = iris[:,5]== 2\n",
    "virginica_petal_length = iris[virginica,1]"
   ]
  },
  {
   "cell_type": "markdown",
   "metadata": {},
   "source": [
    "<font color=green>\n",
    "# Exercise 1.  Computing the ECDF\n",
    "</font>\n",
    "In this exercise, you will write a function that takes as input a 1D array of data and then returns the x and y values of the ECDF. You will use this function over and over again throughout this section and its sequel. \n",
    "\n",
    "ECDFs are among the most important plots in statistical analysis. You can write your own function, foo(x,y) according to the following skeleton:\n",
    "\n",
    "```python\n",
    "    def foo(a,b):\n",
    "        \"\"\"State what function does here\"\"\"\n",
    "        # Computation performed here\n",
    "        return x, y\n",
    "```\n",
    "\n",
    "- The function foo() above takes two arguments a and b and returns two values x and y. \n",
    "- The function header def foo(a,b): contains the function signature foo(a,b), which consists of the function name, along with its parameters. \n",
    "\n",
    "#### Instructions\n",
    "Define a function with the signature ecdf(data). Within the function definition:\n",
    "> * Compute the number of data points, n, using the len() function.\n",
    "> * The xx-values are the sorted data. Use the np.sort() function to perform the sorting.\n",
    "> * The yy data of the ECDF go from 1/n to 1 in equally spaced increments. You can construct this using np.arange(). Remember, however, that the end value in np.arange() is not inclusive. Therefore, np.arange() will need to go from 1 to n+1. Be sure to divide this by n.\n",
    "> * The function returns the values x and y."
   ]
  },
  {
   "cell_type": "code",
   "execution_count": 18,
   "metadata": {},
   "outputs": [],
   "source": [
    "def ecdf(data):\n",
    "    \"\"\"Compute ECDF for a one-dimensional array of measurements.\"\"\"\n",
    "    # Number of data points: n\n",
    "    n = len(data)\n",
    "\n",
    "    # x-data for the ECDF: x\n",
    "    x = np.sort(data)\n",
    "\n",
    "    # y-data for the ECDF: y\n",
    "    y = np.arange(1, n+1) / float(n)\n",
    "\n",
    "    return x, y\n"
   ]
  },
  {
   "cell_type": "markdown",
   "metadata": {},
   "source": [
    "<font color=green>\n",
    "# Exercise 2.  Plotting the ECDF\n",
    "</font>\n",
    "You will now use your ecdf() function to compute the ECDF for the petal lengths of Anderson's Iris versicolor flowers. You will then plot the ECDF. Recall that your ecdf() function returns two arrays so you will need to unpack them. An example of such unpacking is x, y = foo(data), for some function foo().\n",
    "\n",
    "#### Instructions\n",
    "> - Use ecdf() to compute the ECDF of versicolor_petal_length. Unpack the output into x_vers and y_vers.\n",
    "> - Plot the ECDF as dots. Remember to include marker = '.' and linestyle = 'none' in addition to x_vers and y_vers as arguments inside plt.plot().\n",
    "> - Label the axes. You can label the y-axis 'ECDF'.\n",
    "> - Show your plot."
   ]
  },
  {
   "cell_type": "code",
   "execution_count": 19,
   "metadata": {},
   "outputs": [
    {
     "data": {
      "image/png": "[encoded data removed]",
      "text/plain": [
       "<matplotlib.figure.Figure at 0x7f435c136fd0>"
      ]
     },
     "metadata": {},
     "output_type": "display_data"
    }
   ],
   "source": [
    "# Compute ECDF for versicolor data: x_vers, y_vers\n",
    "x_vers, y_vers = ecdf(versicolor_petal_length)\n",
    "\n",
    "# Generate plot\n",
    "_ = plt.plot(x_vers,y_vers, marker=\".\", linestyle=\"none\")\n",
    "\n",
    "# Label the axes\n",
    "_ = plt.xlabel(\"petal length (cm)\")\n",
    "_ = plt.ylabel(\"ECDF\")\n",
    "\n",
    "# Display the plot\n",
    "plt.margins(0.05)\n",
    "plt.show()\n"
   ]
  },
  {
   "cell_type": "markdown",
   "metadata": {},
   "source": [
    "<font color=green>\n",
    "# Exercise 3. Comparison of ECDFs\n",
    "</font>\n",
    "ECDFs also allow you to compare two or more distributions (though plots get cluttered if you have too many). Here, you will plot ECDFs for the petal lengths of all three iris species. You already wrote a function to generate ECDFs so you can put it to good use!\n",
    "\n",
    "To overlay all three ECDFs on the same plot, you can use plt.plot() three times, once for each ECDF. Remember to include marker='.' and linestyle='none' as arguments inside plt.plot().\n",
    "\n",
    "#### Instructions\n",
    "> - Compute ECDFs for each of the three species using your ecdf() function. The variables setosa_petal_length, versicolor_petal_length, and virginica_petal_length are all in your namespace. Unpack the ECDFs into x_set, y_set, x_vers, y_vers and x_virg, y_virg, respectively.\n",
    "> - Plot all three ECDFs on the same plot as dots. To do this, you will need three plt.plot() commands. Assign the result of each to _.\n",
    "> - A legend and axis labels have been added for you, so hit 'Submit Answer' to see all the ECDFs!\n",
    "    "
   ]
  },
  {
   "cell_type": "code",
   "execution_count": 20,
   "metadata": {},
   "outputs": [
    {
     "data": {
      "image/png": "[encoded data removed]",
      "text/plain": [
       "<matplotlib.figure.Figure at 0x7f436d418cd0>"
      ]
     },
     "metadata": {},
     "output_type": "display_data"
    }
   ],
   "source": [
    "# Compute ECDFs\n",
    "x_set, y_set = ecdf(setosa_petal_length)\n",
    "x_vers, y_vers = ecdf(versicolor_petal_length)\n",
    "x_virg, y_virg = ecdf(virginica_petal_length)\n",
    "\n",
    "# Plot all ECDFs on the same plot\n",
    "_ = plt.plot(x_set, y_set, marker=\".\", linestyle=\"none\")\n",
    "_ = plt.plot(x_vers, y_vers, marker=\".\", linestyle=\"none\")\n",
    "_ = plt.plot(x_virg, y_virg, marker=\".\", linestyle=\"none\")\n",
    "\n",
    "# Annotate the plot\n",
    "plt.legend(('setosa', 'versicolor', 'virginica'), loc='lower right')\n",
    "_ = plt.xlabel('petal length (cm)')\n",
    "_ = plt.ylabel('ECDF')\n",
    "\n",
    "# Display the plot\n",
    "plt.margins(0.1)\n",
    "plt.show()"
   ]
  },
  {
   "cell_type": "markdown",
   "metadata": {},
   "source": [
    "\n",
    "\n",
    "<div class=\"alert alert-block alert-success\">\n",
    "<b>Onward toward the whole story!</b>\n",
    "</div>\n",
    "\n"
   ]
  },
  {
   "cell_type": "markdown",
   "metadata": {},
   "source": [
    "You now have some great graphical EDA tools. \n",
    "\n",
    "You can quickly generate and investigate a **histogram**. You can immediately get a feel for your data by plotting all of them, with **bee swarm plots** or **ECDFs**. \n",
    "\n",
    "In almost every data set you should start with graphical EDA (with these plots or any other kind of plot you think can offer you a graphical comprehension of your data, such as line plots, scatter plot, density plots ... )\n",
    "\n",
    "<img src=\"img/summaryGEDA.png\",width=470>\n",
    "\n",
    "Remember what Tukey said <font color=grey>Exploratory data analysis can never be the whole story, but nothing else can serve as the foundation stone</font>."
   ]
  },
  {
   "cell_type": "markdown",
   "metadata": {},
   "source": [
    "<div class=\"alert alert-block alert-warning\">\n",
    "<b>Coming up:</b> In the next section, you will build upon graphical EDA with quantitative EDA, which allows you to compute useful summary statistics. \n",
    "\n",
    "With your foundation stone in place, you will spend the last half of this session learning to think probabilistically. I will not get mired in mathematical details, but rather will unleash the power of NumPy module to do statistics. You will find that by writting a few lines of Python code, you can perform even putatively complicated statistics analyses.\n",
    "</div>"
   ]
  }
 ],
 "metadata": {
  "kernelspec": {
   "display_name": "Python 2",
   "language": "python",
   "name": "python2"
  },
  "language_info": {
   "codemirror_mode": {
    "name": "ipython",
    "version": 2
   },
   "file_extension": ".py",
   "mimetype": "text/x-python",
   "name": "python",
   "nbconvert_exporter": "python",
   "pygments_lexer": "ipython2",
   "version": "2.7.13"
  }
 },
 "nbformat": 4,
 "nbformat_minor": 2
}
