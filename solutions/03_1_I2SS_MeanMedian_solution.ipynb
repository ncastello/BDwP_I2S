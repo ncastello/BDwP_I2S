{
 "cells": [
  {
   "cell_type": "markdown",
   "metadata": {
    "collapsed": true
   },
   "source": [
    "# Introduction to Summary Statistics\n",
    "\n",
    "***\n",
    "# 1. The sample ```mean``` and ```median```\n",
    "---\n",
    "\n",
    "\n",
    "We have seen that histograms, bee swarm plots, and ECDFs provide effective summaries of data. But in data science is mandatory to summarize data even more succinctly, say in one or two numbers, at least. These numerical summaries are not by any stretch a substitute for the graphical methods we have been employing, but they do take up a lot less real estate.\n",
    "\n",
    "\n",
    "Let's go back to the elecgtion data from the swing states again. If we could summarize the percentage of the votes for Obama at the county level in Pennylvania in one number, what would we choose?\n",
    "\n",
    "<img src=\"img/beeswarm_plot.png\",width=500>\n",
    "\n",
    "The first number that pops into my mind is **the mean**. The mean is the sum of all the data, divided by the number n of the data points\n",
    "\n",
    "\n",
    "$$\\overline{x} = \\frac{1}{n} \\left( \\sum_{i=1}^{n} x_{i} \\right) = \\frac{x_1+x_2+x_3+\\dots+x_n}{n}$$\n",
    "\n",
    "So, the mean for a given state is just the average percentage of votes over the counties. If we add the means as horizontal lines to the bee swarm plot, we see that they are a reasonable summary of the data.\n",
    "\n",
    "<img src=\"img/swarm_mean_ex.png\",width=500>\n",
    "\n",
    "### ```mean``` with NumPy\n",
    "To compute the mean of a set of data, we call the ```np.mean()``` function. Here used to compute the mean county-level vote for Obama in Pennsylvania\n",
    "\n",
    "```python\n",
    "In [1]: import numpy as np\n",
    "In [2]: np.mean( dem_share_PA )\n",
    "Out[1]: 45.476417910447765\n",
    "```\n",
    "\n",
    "if ```dem_share_PA``` is a ndarray, ```mean``` is an attribute of such objects\n",
    "\n",
    "```python\n",
    "In [1]: dem_share_PA.mean()\n",
    "Out[1]: 45.476417910447765\n",
    "    \n",
    "```\n",
    "\n",
    "### ```mean``` remark\n",
    "- The mean is a useful statistic and easy to calculare, but a major problem is that <font color=\"red\">it is heavily influenced by outliers</font> (i.e. data points whose value is far greater or less than most of the rest of the data)\n",
    "\n",
    "### Solution: the ```median```\n",
    "We might like a summary statistic that is immune to extreme data. The median provides exactly that.\n",
    "\n",
    "**The median is the middle value of a data set.** It is defined by how it is calculated: sort the data and choosing the datum in the middle. Because it is derived from the ranking of sorted data, and not on the values of the data, the median is immune to data that take on extreme values. \n",
    "\n",
    "Here it is displayed on the bee swarm plot:\n",
    "\n",
    "<img src=\"img/swarm_median_ex.png\",width=500>\n",
    "\n",
    "It is not tugged up by the counties with large fraction of votes for Obama (these are only the 17% of the data).\n",
    "\n",
    "\n",
    "### ```median``` with NumPy\n",
    "To compute the **median** of a set of data, we use the ```np.median()``` function. Here used to compute the median county-level vote for Obama in Utah\n",
    "\n",
    "\n",
    "```python\n",
    "In [1]: np.median( dem_share_UT )\n",
    "Out[1]: 22.469999999999999\n",
    "```"
   ]
  },
  {
   "cell_type": "markdown",
   "metadata": {},
   "source": [
    "# Let's see an example\n",
    "---"
   ]
  },
  {
   "cell_type": "markdown",
   "metadata": {},
   "source": [
    "Let's take the data from the 2008 elections in all states.\n",
    "\n",
    "As we said in the last section, a CSV file can be load with several functions. For this exercise, I will use tha package ```pandas``` and read the file by calling the **read_csv** function."
   ]
  },
  {
   "cell_type": "code",
   "execution_count": 1,
   "metadata": {
    "scrolled": true
   },
   "outputs": [
    {
     "data": {
      "text/html": [
       "<div>\n",
       "<table border=\"1\" class=\"dataframe\">\n",
       "  <thead>\n",
       "    <tr style=\"text-align: right;\">\n",
       "      <th></th>\n",
       "      <th>state</th>\n",
       "      <th>county</th>\n",
       "      <th>total_votes</th>\n",
       "      <th>dem_votes</th>\n",
       "      <th>rep_votes</th>\n",
       "      <th>other_votes</th>\n",
       "      <th>dem_share</th>\n",
       "      <th>east_west</th>\n",
       "    </tr>\n",
       "  </thead>\n",
       "  <tbody>\n",
       "    <tr>\n",
       "      <th>3143</th>\n",
       "      <td>OH</td>\n",
       "      <td>Athens County</td>\n",
       "      <td>31098</td>\n",
       "      <td>20722</td>\n",
       "      <td>9742</td>\n",
       "      <td>634</td>\n",
       "      <td>68.02</td>\n",
       "      <td>east</td>\n",
       "    </tr>\n",
       "    <tr>\n",
       "      <th>3144</th>\n",
       "      <td>OH</td>\n",
       "      <td>Butler County</td>\n",
       "      <td>173777</td>\n",
       "      <td>66030</td>\n",
       "      <td>105341</td>\n",
       "      <td>2406</td>\n",
       "      <td>38.53</td>\n",
       "      <td>east</td>\n",
       "    </tr>\n",
       "    <tr>\n",
       "      <th>3145</th>\n",
       "      <td>OH</td>\n",
       "      <td>Clinton County</td>\n",
       "      <td>19305</td>\n",
       "      <td>6558</td>\n",
       "      <td>12409</td>\n",
       "      <td>338</td>\n",
       "      <td>34.58</td>\n",
       "      <td>east</td>\n",
       "    </tr>\n",
       "    <tr>\n",
       "      <th>3146</th>\n",
       "      <td>OH</td>\n",
       "      <td>Cuyahoga County</td>\n",
       "      <td>665352</td>\n",
       "      <td>458422</td>\n",
       "      <td>199880</td>\n",
       "      <td>7050</td>\n",
       "      <td>69.64</td>\n",
       "      <td>east</td>\n",
       "    </tr>\n",
       "    <tr>\n",
       "      <th>3147</th>\n",
       "      <td>OH</td>\n",
       "      <td>Franklin County</td>\n",
       "      <td>560325</td>\n",
       "      <td>334709</td>\n",
       "      <td>218486</td>\n",
       "      <td>7130</td>\n",
       "      <td>60.50</td>\n",
       "      <td>east</td>\n",
       "    </tr>\n",
       "    <tr>\n",
       "      <th>3148</th>\n",
       "      <td>OH</td>\n",
       "      <td>Hamilton County</td>\n",
       "      <td>425086</td>\n",
       "      <td>225213</td>\n",
       "      <td>195530</td>\n",
       "      <td>4343</td>\n",
       "      <td>53.53</td>\n",
       "      <td>east</td>\n",
       "    </tr>\n",
       "    <tr>\n",
       "      <th>3149</th>\n",
       "      <td>OH</td>\n",
       "      <td>Highland County</td>\n",
       "      <td>19186</td>\n",
       "      <td>6856</td>\n",
       "      <td>11907</td>\n",
       "      <td>423</td>\n",
       "      <td>36.54</td>\n",
       "      <td>east</td>\n",
       "    </tr>\n",
       "    <tr>\n",
       "      <th>3150</th>\n",
       "      <td>OH</td>\n",
       "      <td>Hocking County</td>\n",
       "      <td>12961</td>\n",
       "      <td>6259</td>\n",
       "      <td>6364</td>\n",
       "      <td>338</td>\n",
       "      <td>49.58</td>\n",
       "      <td>east</td>\n",
       "    </tr>\n",
       "    <tr>\n",
       "      <th>3151</th>\n",
       "      <td>OH</td>\n",
       "      <td>Licking County</td>\n",
       "      <td>82356</td>\n",
       "      <td>33932</td>\n",
       "      <td>46918</td>\n",
       "      <td>1506</td>\n",
       "      <td>41.97</td>\n",
       "      <td>east</td>\n",
       "    </tr>\n",
       "    <tr>\n",
       "      <th>3152</th>\n",
       "      <td>OH</td>\n",
       "      <td>Madison County</td>\n",
       "      <td>17454</td>\n",
       "      <td>6532</td>\n",
       "      <td>10606</td>\n",
       "      <td>316</td>\n",
       "      <td>38.11</td>\n",
       "      <td>east</td>\n",
       "    </tr>\n",
       "  </tbody>\n",
       "</table>\n",
       "</div>"
      ],
      "text/plain": [
       "     state           county  total_votes  dem_votes  rep_votes  other_votes  \\\n",
       "3143    OH    Athens County        31098      20722       9742          634   \n",
       "3144    OH    Butler County       173777      66030     105341         2406   \n",
       "3145    OH   Clinton County        19305       6558      12409          338   \n",
       "3146    OH  Cuyahoga County       665352     458422     199880         7050   \n",
       "3147    OH  Franklin County       560325     334709     218486         7130   \n",
       "3148    OH  Hamilton County       425086     225213     195530         4343   \n",
       "3149    OH  Highland County        19186       6856      11907          423   \n",
       "3150    OH   Hocking County        12961       6259       6364          338   \n",
       "3151    OH   Licking County        82356      33932      46918         1506   \n",
       "3152    OH   Madison County        17454       6532      10606          316   \n",
       "\n",
       "      dem_share east_west  \n",
       "3143      68.02      east  \n",
       "3144      38.53      east  \n",
       "3145      34.58      east  \n",
       "3146      69.64      east  \n",
       "3147      60.50      east  \n",
       "3148      53.53      east  \n",
       "3149      36.54      east  \n",
       "3150      49.58      east  \n",
       "3151      41.97      east  \n",
       "3152      38.11      east  "
      ]
     },
     "execution_count": 1,
     "metadata": {},
     "output_type": "execute_result"
    }
   ],
   "source": [
    "import pandas as pd\n",
    "\n",
    "pd_data = pd.read_csv(\"data/2008_all_states.csv\")\n",
    "\n",
    "pd_data.tail(10)"
   ]
  },
  {
   "cell_type": "markdown",
   "metadata": {},
   "source": [
    "Consider the county-level votes for Utah in the 2008 election only"
   ]
  },
  {
   "cell_type": "code",
   "execution_count": 37,
   "metadata": {},
   "outputs": [],
   "source": [
    "# loading data into NumPy Arrays\n",
    "mask_state_UT = pd_data['state']==\"UT\"\n",
    "\n",
    "state_UT = pd_data[mask_state_UT]['state']\n",
    "dem_share_UT = pd_data[mask_state_UT]['dem_share']"
   ]
  },
  {
   "cell_type": "markdown",
   "metadata": {},
   "source": [
    "The mean of the democratic share votes in Utah is"
   ]
  },
  {
   "cell_type": "code",
   "execution_count": 38,
   "metadata": {},
   "outputs": [
    {
     "data": {
      "text/plain": [
       "27.611034482758622"
      ]
     },
     "execution_count": 38,
     "metadata": {},
     "output_type": "execute_result"
    }
   ],
   "source": [
    "dem_share_UT.mean()"
   ]
  },
  {
   "cell_type": "code",
   "execution_count": 39,
   "metadata": {},
   "outputs": [
    {
     "data": {
      "text/plain": [
       "27.611034482758622"
      ]
     },
     "execution_count": 39,
     "metadata": {},
     "output_type": "execute_result"
    }
   ],
   "source": [
    "import numpy as np\n",
    "\n",
    "# can be also compute by calling the mean funciton\n",
    "np.mean( dem_share_UT )"
   ]
  },
  {
   "cell_type": "markdown",
   "metadata": {},
   "source": [
    "# Let's practice!\n",
    "***\n",
    "\n",
    "<div class=\"alert alert-block alert-success\">\n",
    "<b>Loading data.</b> In the following ipython cell, the necessary data set for this section is loaded\n",
    "</div>"
   ]
  },
  {
   "cell_type": "code",
   "execution_count": 71,
   "metadata": {},
   "outputs": [],
   "source": [
    "# all packages are already loaded\n",
    "# import numpy as np\n",
    "# from matplotlib import pyplot as plt\n",
    "# import seaborn as sns\n",
    "# sns.set()\n",
    "\n",
    "# Loading data in the namespace\n",
    "# columns info: row,petal length (cm),petal width (cm),sepal length (cm),sepal width (cm),species\n",
    "iris = np.genfromtxt( \"data/iris.csv\", delimiter=\",\", skip_header=1)\n",
    "\n",
    "# Select features for the versicolor type of iris\n",
    "# species info: \n",
    "#       0 for versicolor\n",
    "#       1 for setosa\n",
    "#       2 for virginica\n",
    "versicolor = iris[:,5]== 0\n",
    "versicolor_petal_length = iris[versicolor,1]\n",
    "\n",
    "setosa = iris[:,5]== 1\n",
    "setosa_petal_length = iris[setosa,1]\n",
    "\n",
    "virginica = iris[:,5]== 2\n",
    "virginica_petal_length = iris[virginica,1]"
   ]
  },
  {
   "cell_type": "markdown",
   "metadata": {},
   "source": [
    "<font color=green>\n",
    "# Exercise 1.1 Means and medians\n",
    "</font>\n",
    "Which one of the following statements is true about means and medians?\n",
    "\n",
    "#### Possible Answers\n",
    "> - An outlier can significantly affect the value of both the mean and the median.\n",
    "> - An outlier can significantly affect the value of the mean, but not the median.\n",
    "> - Means and medians are in general both robust to single outliers.\n",
    "> - The mean and median are equal if there is an odd number of data points."
   ]
  },
  {
   "cell_type": "code",
   "execution_count": 72,
   "metadata": {},
   "outputs": [],
   "source": [
    "# check it by yourself!\n"
   ]
  },
  {
   "cell_type": "markdown",
   "metadata": {},
   "source": [
    "<font color=green>\n",
    "# Exercise 1.2 1D array: computing means\n",
    "</font>\n",
    "The mean of all measurements gives an indication of the typical magnitude of a measurement.\n",
    "\n",
    "#### Instructions\n",
    "> - Compute the mean petal length of the three Iris species: versicolor_petal_length, setosa_petal_length and virginica_petal_length (already provided in your namespace). Assign the mean to mean_length_vers, mean_length_seto and mean_length_virg, respectively.\n",
    "> - Hit submit to print the result."
   ]
  },
  {
   "cell_type": "code",
   "execution_count": 73,
   "metadata": {},
   "outputs": [
    {
     "name": "stdout",
     "output_type": "stream",
     "text": [
      "\t Mean. versicolor: 5.006 , setosa: 5.936, and virginica 6.588 [in cm]\n"
     ]
    }
   ],
   "source": [
    "# Compute the mean: mean_length_vers\n",
    "mean_length_vers = np.mean( versicolor_petal_length )\n",
    "mean_length_seto = np.mean( setosa_petal_length )\n",
    "mean_length_virg = np.mean( virginica_petal_length )\n",
    "\n",
    "# Print the result with some nice formatting\n",
    "print '\\t Mean. versicolor: {0} , setosa: {1}, and virginica {2} [in cm]'.format(mean_length_vers, \n",
    "                                                                        mean_length_seto, mean_length_virg)\n"
   ]
  },
  {
   "cell_type": "markdown",
   "metadata": {},
   "source": [
    "<font color=green>\n",
    "# Exercise 1.3 ND array: computing means (I)\n",
    "</font>\n",
    "Compute the mean petal length of the **versicolor** iris specie (i.e. value 0) but now using the ```ndarray```  called **iris** (already in your namespace)\n",
    "\n",
    "#### Remember\n",
    "> - iris is a matrix of 150 rows with 6 columns\n",
    "> - the feature **petal length** is stored in the second column\n",
    "> - the feature **species** in the last column\n",
    "\n",
    "#### Instructions\n",
    "> - Create a mask to select only those rows that are classified as **versicolor**. Assign the mask to ma_versicolor\n",
    "> - Compute the mean petal length. Assign the mean to mean_length_petal_vers\n",
    "> - Print the result from this exercise, and the previous one, to compare it"
   ]
  },
  {
   "cell_type": "code",
   "execution_count": 74,
   "metadata": {},
   "outputs": [
    {
     "name": "stdout",
     "output_type": "stream",
     "text": [
      "\t Mean for the versicolor 5.006 and from last exercise 5.006 \n"
     ]
    }
   ],
   "source": [
    "# select a subset of rows: column 5 equal to 0\n",
    "ma_versicolor = iris[:,5] == 0\n",
    "\n",
    "# compute the petal length mean of this subset\n",
    "mean_length_petal_vers = iris[ma_versicolor, 1].mean()\n",
    "\n",
    "# print out\n",
    "print \"\\t Mean for the versicolor {0} and from last exercise {1} \".format(mean_length_petal_vers, \n",
    "                                                                          mean_length_vers)"
   ]
  },
  {
   "cell_type": "code",
   "execution_count": 75,
   "metadata": {},
   "outputs": [
    {
     "data": {
      "text/plain": [
       "5.0060000000000002"
      ]
     },
     "execution_count": 75,
     "metadata": {},
     "output_type": "execute_result"
    }
   ],
   "source": [
    "# alternative way to compute it\n",
    "np.mean( iris[ma_versicolor, 1] )"
   ]
  },
  {
   "cell_type": "markdown",
   "metadata": {},
   "source": [
    "<font color=green>\n",
    "# Exercise 1.3 ND array: computing means (II)\n",
    "</font>\n",
    "<div class=\"alert alert-block alert-info\">\n",
    "<b>Note:</b> Using the function ```np.mean()``` you can compute the mean of all the attributes of this subset (or any other subset) in only one step.\n",
    "</div>\n",
    "\n",
    "```python\n",
    "np.mean( iris[ma_versicolor], axis=0 )\n",
    "\n",
    "```\n",
    "#### Instructions\n",
    "> - Copy this code in the ipython cell and try to understand it. \n",
    "> - Do the same, but now for the setosa and virginica Iris specie (i.e. value 1, and 2 respectively)"
   ]
  },
  {
   "cell_type": "code",
   "execution_count": 76,
   "metadata": {},
   "outputs": [
    {
     "data": {
      "text/plain": [
       "array([ 24.5  ,   5.006,   1.464,   0.244,   3.418,   0.   ])"
      ]
     },
     "execution_count": 76,
     "metadata": {},
     "output_type": "execute_result"
    }
   ],
   "source": [
    "# in one way you have the mean of all afeatures/attributes for this specie\n",
    "np.mean( iris[ma_versicolor], axis=0 )"
   ]
  },
  {
   "cell_type": "markdown",
   "metadata": {},
   "source": [
    "<font color=green>\n",
    "# Exercise 1.4 Computing medians\n",
    "</font>\n",
    "The median is the middle value of a data set.\n",
    "\n",
    "#### Instructions\n",
    "> - Compute the median petal length of the three Iris species: versicolor_petal_length, setosa_petal_length and virginica_petal_length (already provided in your namespace). Assign the median to median_length_vers, median_length_seto and median_length_virg, respectively.\n",
    "> - Hit submit to print the result."
   ]
  },
  {
   "cell_type": "code",
   "execution_count": 77,
   "metadata": {},
   "outputs": [
    {
     "name": "stdout",
     "output_type": "stream",
     "text": [
      "\t Median. versicolor: 5.0 , setosa: 5.9, and virginica 6.5 [in cm]\n"
     ]
    }
   ],
   "source": [
    "# Compute the mean: mean_length_vers\n",
    "median_length_vers = np.median( versicolor_petal_length )\n",
    "median_length_seto = np.median( setosa_petal_length )\n",
    "median_length_virg = np.median( virginica_petal_length )\n",
    "\n",
    "# Print the result with some nice formatting\n",
    "print '\\t Median. versicolor: {0} , setosa: {1}, and virginica {2} [in cm]'.format(median_length_vers, \n",
    "                                                                        median_length_seto, median_length_virg)\n"
   ]
  },
  {
   "cell_type": "markdown",
   "metadata": {},
   "source": [
    "<font color=green>\n",
    "# Exercise 1.5 Computing means without using ```np.mean```\n",
    "</font>\n",
    "Design your own code to compute the media and the mean values of the petal length of the three Iris species:\n",
    "\n",
    "\n",
    "#### Instructions\n",
    "> - Compute the mean petal length of the three Iris species: versicolor_petal_length, setosa_petal_length and virginica_petal_length (already provided in your namespace).\n",
    "> - Print the result and compare it with results from Ex 2."
   ]
  },
  {
   "cell_type": "code",
   "execution_count": 78,
   "metadata": {},
   "outputs": [
    {
     "name": "stdout",
     "output_type": "stream",
     "text": [
      "\t petal length mean of versicolor  5.006  in cm\n",
      "\t petal length mean of setosa  5.936  in cm\n",
      "\t petal length mean of virginica  6.588  in cm\n"
     ]
    }
   ],
   "source": [
    "def my_mean(data):\n",
    "    \n",
    "    n = float(len(data))\n",
    "    _mean = 0\n",
    "    for i in data:\n",
    "        _mean += i\n",
    "    \n",
    "    return _mean/n\n",
    "\n",
    "print \"\\t petal length mean of versicolor \", my_mean( versicolor_petal_length ), \" in cm\"\n",
    "print \"\\t petal length mean of setosa \", my_mean( setosa_petal_length ), \" in cm\"\n",
    "print \"\\t petal length mean of virginica \", my_mean( virginica_petal_length ), \" in cm\""
   ]
  },
  {
   "cell_type": "markdown",
   "metadata": {},
   "source": [
    "<font color=green>\n",
    "# Exercise 1.6 Computing median without using ```np.median```\n",
    "</font>\n",
    "Design your own code to compute the media and the mean values of the petal length of the three Iris species:\n",
    "\n",
    "\n",
    "#### Instructions\n",
    "> - Compute the median petal length of the three Iris species: versicolor_petal_length, setosa_petal_length and virginica_petal_length (already provided in your namespace). \n",
    "> - Print the result."
   ]
  },
  {
   "cell_type": "code",
   "execution_count": 79,
   "metadata": {},
   "outputs": [
    {
     "name": "stdout",
     "output_type": "stream",
     "text": [
      "\t petal length median of versicolor  5.0  in cm\n",
      "\t petal length median of setosa  5.9  in cm\n",
      "\t petal length median of virginica  6.5  in cm\n"
     ]
    }
   ],
   "source": [
    "def my_median(data):\n",
    "\n",
    "    n = len(data)\n",
    "    halfn = n/2\n",
    "\n",
    "    # before to search for the value at the middle of the array, we must sort it!\n",
    "    data = np.sort(data)    \n",
    "    if not n%2:\n",
    "        _median = data[halfn]\n",
    "    else:\n",
    "        _median = np.mean([ data[halfn-1],data[halfn] ])\n",
    "\n",
    "    return _median\n",
    "            \n",
    "print \"\\t petal length median of versicolor \", my_median( versicolor_petal_length ), \" in cm\"\n",
    "print \"\\t petal length median of setosa \", my_median( setosa_petal_length ), \" in cm\"\n",
    "print \"\\t petal length median of virginica \", my_median( virginica_petal_length ), \" in cm\""
   ]
  }
 ],
 "metadata": {
  "kernelspec": {
   "display_name": "Python 2",
   "language": "python",
   "name": "python2"
  },
  "language_info": {
   "codemirror_mode": {
    "name": "ipython",
    "version": 2
   },
   "file_extension": ".py",
   "mimetype": "text/x-python",
   "name": "python",
   "nbconvert_exporter": "python",
   "pygments_lexer": "ipython2",
   "version": "2.7.13"
  }
 },
 "nbformat": 4,
 "nbformat_minor": 2
}
