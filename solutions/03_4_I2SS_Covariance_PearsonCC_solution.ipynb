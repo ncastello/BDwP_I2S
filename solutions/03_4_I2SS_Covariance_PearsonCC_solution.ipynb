{
 "cells": [
  {
   "cell_type": "markdown",
   "metadata": {},
   "source": [
    "# 3 Introduction to Summary Statistics\n",
    "\n",
    "\n",
    "***\n",
    "# 3.4 Covariance and Pearson Correlation Coefficient\n",
    "---\n",
    "\n",
    "We have more data than just the vote share for Obama. \n",
    "\n",
    "We also know the total number of votes in each county.\n",
    "\n",
    "Let's see at how these two quantities vary together. We start by looking at a **scatter plot** of the county data for the three swing states, plotting the percent vote for Obama versus the total number of votes in each county.\n",
    "\n",
    "\n",
    "<img src=\"img/scatter_plot_ex1.png\",width=500>\n",
    "\n",
    "\n",
    "Immediately from the scatter plot, we see that the twelve most populous counties all voted for Obama, and that most of the counties with small populations voted for McCain.\n",
    "\n",
    "### EDA: Scatter Plot ```plt.plot()```\n",
    "To generate a scatter plot, we plot the data as points by\n",
    "\n",
    "```python\n",
    "_ = plt.plot(total_votes/1000, dem_share, marker=\".\", linestyle=\"none\")\n",
    "_ = plt.xlabel('total votes (thousands)')\n",
    "_ = plt.ylabel('percent of vote for Obama')\n",
    "plt.show()\n",
    "\n",
    "```\n",
    "\n",
    "So, we have exposed another graphical EDA technique: scatter plots!\n",
    "\n",
    "### Covariance\n",
    "\n",
    "We would like to have a summary statistic to go along with the information we have just gleaned from the scatter plot. \n",
    "\n",
    "We want a number that summarizes how Obama's vote share varies with the total vote count. One such statistic is the covariance. \n",
    "\n",
    "To understand where it comes from let's annotate the scatter plot with the means of the two quantites we are interested in. Now let's look at the data point from *Lucas County* (the light point on the plot). \n",
    "\n",
    "\n",
    "<img src=\"img/covariance_step1.png\",width=500>\n",
    "\n",
    "This data point differs from the mean vote share for Obama, and the mean total votes\n",
    "\n",
    "<img src=\"img/covariance_step2.png\",width=500>\n",
    "\n",
    "We can compute these differences for each data point. **The covariance is the mean of hte product of these differences.**\n",
    "\n",
    "$$cov(x,y) = \\frac{1}{n} \\sum_{i=1}^{n} \\left( x_{i} -\\overline{x} \\right) \\left( y_{i} -\\overline{y} \\right) $$\n",
    "\n",
    "##### Positively correlated\n",
    "If **x** and **y** both tend to be above, or both below their respective means together, as they are in this data set, then the covariance is positive.\n",
    "\n",
    "This means that they are positively correlated: when *x* is high so is *y*; when the county is populous, it has more votes for Obama.\n",
    "\n",
    "###### Examples: \n",
    "> - The more time you spend running on a treadmill, the more calories you will burn.\n",
    "> - The more hours you spend in direct sunlight, the more severe your sunburn.\n",
    "> - As the temperature goes up, ice cream sales also go up.\n",
    "> - The more it rains, the more sales for umbrellas go up.\n",
    "> - As you drink more coffee, the number of hours you stay awake increases\n",
    "> - The more gasoline you put in your car, the farther it can go\n",
    "> - ...\n",
    "\n",
    "##### Negatively correlated\n",
    "Conversely, if *x* is high when *y* is low, the covariance is negative and the data are negatively correlated, or anticorrelated, which is not the case for this data set. \n",
    "\n",
    "###### Examples:\n",
    "> - The older a man gets, the less hair that he has.\n",
    "> - The more one works, the less free time one has.\n",
    "> - If it is darker outside, more light is needed inside.\n",
    "> - If a chicken increases in age, the amount of eggs it produces decreases.\n",
    "> - As the temperature decreases, more heaters are purchased.\n",
    "> - The more one runs, the less likely one is to have cardiovascular problems.\n",
    "> - The more iron an anemic person consumes, the less tired one may be.\n",
    "> - ....\n",
    "\n",
    "#### ```np.cov()``` with NumPy\n",
    "We can compute the covariance using built-in NumPy functions. The covariance may be computed using the Numpy function ```np.cov()```. \n",
    "\n",
    "For example, we have two sets of data _x_ and _y_, ```np.cov(x, y)``` returns a **2D array** where entries \n",
    "* ```[0,1]``` and ```[1,0]``` are the covariances. \n",
    "* entry ```[0,0]``` is the variance of the data in ```x```, and \n",
    "* entry ```[1,1]``` is the variance of the data in y. \n",
    "\n",
    "**This 2D output array is called the covariance matrix, since it organizes the self- and covariance.**\n",
    "\n",
    "\n",
    "\n",
    "### Determining Correlation Strength: Pearson Correlation Coefficient\n",
    "If we want to have a more generally applicable measure of how two variables depend oon each other, we want it to be dimensionless, that is to **not have any units**. \n",
    "\n",
    "So, we can divide the covariance by the standard deviations of the **x** and **y** variables. This is called the **Pearson correlation coefficient**, usually denoted by the greek letter $\\rho$. \n",
    "\n",
    "\n",
    "$$ \\frac{\\rm{variability-to-codependence}}{\\rm{independent-variability}}$$\n",
    "\n",
    "$$ r_{xy} = \\frac{ \\sum_{i=1}^{n} \\left( x_{i} -\\overline{x} \\right) \\left( y_{i} -\\overline{y} \\right)}{ \\sqrt{ \\sum_{i=1}^{n}\\left( x_{i} -\\overline{x} \\right)^{2}} \\sqrt{ \\sum_{i=1}^{n}\\left( y_{i} -\\overline{y} \\right)}^{2} } = \\frac{ C_{x,y}} {C_{x,x} C_{y,y}}$$\n",
    "\n",
    "\n",
    "It is a comparison of the variability in the data due to codependence (i.e. the covariance) to the variability inherent to each variable independently (their standard deviation).\n",
    "\n",
    "> - a value of -1 means that there is a perfect negative relationship between the variables \n",
    "> - a value of 1 indicates that there is a perfect positive relationship\n",
    "> - A correlation of 0 means there is no relationship between the two variables\n",
    "\n",
    "Perfect relationships rarely exist in real-life. If you find two things that are negatively correlated, the correlation will almost always be somewhere between 0 and -1. The closer a negative correlation is to -1, the stronger the relationship between the two variables. The same for a postive correlation. \n",
    "\n",
    "\n",
    "<img src=\"img/corr_examples.png\",width=500>\n",
    "\n",
    "As you can see, the Pearson correlation coefficient is a good metric for correlation between two variables."
   ]
  },
  {
   "cell_type": "markdown",
   "metadata": {},
   "source": [
    "---\n",
    "# Let's practice!\n",
    "***\n",
    "\n",
    "<div class=\"alert alert-block alert-success\">\n",
    "<b>Loading data.</b> In the following ipython cell, the necessary data set for this section is loaded\n",
    "</div>"
   ]
  },
  {
   "cell_type": "code",
   "execution_count": 111,
   "metadata": {},
   "outputs": [],
   "source": [
    "# all packages are already loaded\n",
    "import numpy as np\n",
    "from matplotlib import pyplot as plt\n",
    "import seaborn as sns\n",
    "sns.set()\n",
    "\n",
    "# Loading data in the namespace\n",
    "# columns info: row,petal length (cm),petal width (cm),sepal length (cm),sepal width (cm),species\n",
    "iris = np.genfromtxt( \"data/iris.csv\", delimiter=\",\", skip_header=1)\n",
    "\n",
    "# Select features for the versicolor type of iris\n",
    "# species info: \n",
    "#       1 for versicolor\n",
    "#       0 for setosa\n",
    "#       2 for virginica\n",
    "versicolor = iris[:,5]== 1\n",
    "versicolor_petal_length = iris[versicolor,1]\n",
    "versicolor_petal_width = iris[versicolor,2]\n",
    "\n",
    "setosa = iris[:,5]== 0\n",
    "setosa_petal_length = iris[setosa,1]\n",
    "\n",
    "virginica = iris[:,5]== 2\n",
    "virginica_petal_length = iris[virginica,1]"
   ]
  },
  {
   "cell_type": "markdown",
   "metadata": {},
   "source": [
    "<font color=green>\n",
    "# Exercise 3.4.1 Scatter plots\n",
    "</font>\n",
    "When you made bee swarm plots, box plots, and ECDF plots in previous exercises, you compared the petal lengths of different species of iris. But what if you want to compare two properties of a single species? This is exactly what we will do in this exercise. We will make a scatter plot of the petal length and width measurements of Anderson's Iris versicolor flowers. If the flower scales (that is, it preserves its proportion as it grows), we would expect the length and width to be correlated.\n",
    "\n",
    "#### Instructions\n",
    "> - Use ```plt.plot()``` with the appropriate keyword arguments to make a scatter plot of versicolor petal length (x-axis) versus petal width (y-axis). The variables ```versicolor_petal_length``` and ```versicolor_petal_width``` are already in your namespace. Do not forget to use the ```marker='.'``` and ```linestyle='none'``` keyword arguments.\n",
    "> - Label the axes.\n",
    ">  -Display the plot.\n"
   ]
  },
  {
   "cell_type": "code",
   "execution_count": 75,
   "metadata": {},
   "outputs": [
    {
     "data": {
      "image/png": "[encoded data removed]",
      "text/plain": [
       "<matplotlib.figure.Figure at 0x7f744c4ebb90>"
      ]
     },
     "metadata": {},
     "output_type": "display_data"
    }
   ],
   "source": [
    "# Make a scatter plot\n",
    "_ = plt.plot( versicolor_petal_length, versicolor_petal_width, marker=\".\", linestyle=\"none\")\n",
    "\n",
    "# Label the axes\n",
    "_ = plt.xlabel('versicolor petal length (cm)')\n",
    "_ = plt.ylabel('versicolor petal width (cm)')\n",
    "\n",
    "# Show the result\n",
    "plt.show()"
   ]
  },
  {
   "cell_type": "markdown",
   "metadata": {},
   "source": [
    "<font color=green>\n",
    "# Exercise 3.4.2 Variance and covariance by looking\n",
    "</font>\n",
    "Consider the four scatter plots of _x_-_y_ data\n",
    "\n",
    "<img src=\"img/exercise_3_4_2.png\",width=500>\n",
    "\n",
    "Which has, respectively,\n",
    "\n",
    "> - the **highest variance** in the variable _x_,\n",
    "> - the **highest covariance**,\n",
    "> - **negative covariance**?\n",
    "\n",
    "#### Possible Answers\n",
    "> - a,c,b\n",
    "> - d,c,a\n",
    "> - d,c,b\n",
    "> - d,d,b\n",
    "\n"
   ]
  },
  {
   "cell_type": "code",
   "execution_count": 106,
   "metadata": {},
   "outputs": [],
   "source": [
    "# "
   ]
  },
  {
   "cell_type": "markdown",
   "metadata": {},
   "source": [
    "<font color=green>\n",
    "# Exercise 3.4.3 Computing the covariance\n",
    "</font>\n",
    "From first exercise, you know how ```versicolor_petal_length``` and ```versicolor_petal_width``` are related to wach other.\n",
    "\n",
    "#### Instructions\n",
    "> - Use ```np.cov()``` to compute the covariance matrix for the petal length (```versicolor_petal_length```) and width (```versicolor_petal_width```) of _versicolor_.\n",
    "> - Print the **covariance matrix**.\n",
    "> - Extract the covariance from entry ```[0,1]``` of the covariance matrix. Note that by symmetry, entry ```[1,0]``` is the same as entry ```[0,1]```.\n",
    "> - Print the covariance.\n",
    "> - Compute the variance of _x_ and _y_ by using np.var() and compare it with the values ```[0,0]``` and ```[1,1]``` of the covariance matrix\n"
   ]
  },
  {
   "cell_type": "code",
   "execution_count": 107,
   "metadata": {},
   "outputs": [
    {
     "name": "stdout",
     "output_type": "stream",
     "text": [
      "\n",
      "\t The covariance matrix is: \n",
      "\t\t[ 0.22081633  0.07310204]\n",
      "\t\t[ 0.07310204  0.03910612]\n",
      "\n",
      "\n",
      "\t Covariance is  0.0731020408163\n",
      "\n",
      "\t Variance of petal length is  0.220816326531\n",
      "\t  ... now from np.var()  0.2164\n"
     ]
    }
   ],
   "source": [
    "# Compute the covariance matrix: covariance_matrix\n",
    "covariance_matrix = np.cov( versicolor_petal_length, versicolor_petal_width)\n",
    "\n",
    "# Print covariance matrix\n",
    "print \"\\n\\t The covariance matrix is: \"\n",
    "print \"\\t\\t\", covariance_matrix[:,0] \n",
    "print \"\\t\\t\", covariance_matrix[:,1] \n",
    "print \"\\n\"\n",
    "\n",
    "# Extract covariance of length and width of petals: petal_cov\n",
    "petal_cov = covariance_matrix[0,1]\n",
    "\n",
    "# Print the length/width covariance\n",
    "print \"\\t Covariance is \", petal_cov\n",
    "print \"\\n\\t Variance of petal length is \", covariance_matrix[0,0]\n",
    "print \"\\t  ... now from np.var() \", versicolor_petal_length.var()"
   ]
  },
  {
   "cell_type": "markdown",
   "metadata": {},
   "source": [
    "<font color=green>\n",
    "# Exercise 3.4.4 Computing the Pearson Correlation Coefficient\n",
    "</font>\n",
    "As mentioned before, the **Pearson correlation coefficient**, also called the Pearson r, is often easier to interpret than the covariance. It is computed using the ```np.corrcoef()``` function. Like ```np.cov()```, it takes two arrays as arguments and returns a **2D array**. Entries ```[0,0]``` and ```[1,1]``` are necessarily equal to 1 (can you think about why?), and the value we are after is entry [0,1].\n",
    "\n",
    "In this exercise, you will write a function, pearson_r(x, y) that takes in two arrays and returns the Pearson correlation coefficient. You will then use this function to compute it for the petal lengths and widths of I. versicolor.\n",
    "\n",
    "Again, we include the scatter plot you generated in a previous exercise to remind you how the petal width and length are related."
   ]
  },
  {
   "cell_type": "code",
   "execution_count": 108,
   "metadata": {},
   "outputs": [
    {
     "ename": "SyntaxError",
     "evalue": "duplicate argument '____' in function definition (<ipython-input-108-cb9496073a53>, line 1)",
     "output_type": "error",
     "traceback": [
      "\u001b[0;36m  File \u001b[0;32m\"<ipython-input-108-cb9496073a53>\"\u001b[0;36m, line \u001b[0;32m1\u001b[0m\n\u001b[0;31m    def ____(____, ____):\u001b[0m\n\u001b[0;31mSyntaxError\u001b[0m\u001b[0;31m:\u001b[0m duplicate argument '____' in function definition\n"
     ]
    }
   ],
   "source": [
    "def ____(____, ____):\n",
    "    \"\"\"Compute Pearson correlation coefficient between two arrays.\"\"\"\n",
    "    # Compute correlation matrix: corr_mat\n",
    "\n",
    "\n",
    "    # Return entry [0,1]\n",
    "    return corr_mat[0,1]\n",
    "\n",
    "# Compute Pearson correlation coefficient for I. versicolor: r\n",
    "\n",
    "\n",
    "# Print the result\n"
   ]
  },
  {
   "cell_type": "code",
   "execution_count": 109,
   "metadata": {},
   "outputs": [
    {
     "name": "stdout",
     "output_type": "stream",
     "text": [
      "\t Pearson coeff for the length and width: \n",
      "\t  0.786668088523\n"
     ]
    }
   ],
   "source": [
    "def pearson_r(x,y):\n",
    "    \"\"\"Compute Pearson correlation coefficient between two arrays.\"\"\"\n",
    "    # Compute correlation matrix: corr_mat\n",
    "    corr_mat = np.corrcoef(x,y)\n",
    "\n",
    "    # Return entry [0,1]\n",
    "    return corr_mat[0,1]\n",
    "\n",
    "# Compute Pearson correlation coefficient for I. versicolor: r\n",
    "r = pearson_r(versicolor_petal_length, versicolor_petal_width)\n",
    "\n",
    "# Print the result\n",
    "print \"\\t Pearson coeff for the length and width: \"\n",
    "print \"\\t \", r\n",
    "\n"
   ]
  },
  {
   "cell_type": "code",
   "execution_count": 110,
   "metadata": {},
   "outputs": [
    {
     "name": "stdout",
     "output_type": "stream",
     "text": [
      "\t The correlation coefficient is  0.786668088523\n"
     ]
    }
   ],
   "source": [
    "x = versicolor_petal_length\n",
    "y = versicolor_petal_width\n",
    "\n",
    "print \"\\t The correlation coefficient is \", (np.cov(x,y)/np.sqrt(np.cov(x,x)*np.cov(y,y)))[0,1]"
   ]
  },
  {
   "cell_type": "code",
   "execution_count": null,
   "metadata": {},
   "outputs": [],
   "source": []
  }
 ],
 "metadata": {
  "kernelspec": {
   "display_name": "Python 2",
   "language": "python",
   "name": "python2"
  },
  "language_info": {
   "codemirror_mode": {
    "name": "ipython",
    "version": 2
   },
   "file_extension": ".py",
   "mimetype": "text/x-python",
   "name": "python",
   "nbconvert_exporter": "python",
   "pygments_lexer": "ipython2",
   "version": "2.7.13"
  }
 },
 "nbformat": 4,
 "nbformat_minor": 2
}
