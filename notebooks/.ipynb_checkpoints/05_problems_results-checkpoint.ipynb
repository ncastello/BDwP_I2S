{
 "cells": [
  {
   "cell_type": "markdown",
   "metadata": {
    "collapsed": true
   },
   "source": [
    "# Problems\n",
    "***\n",
    "# 1. Data Set: Fifa\n",
    "\n",
    "There are 8847 observations (players) with 19 features:\n",
    "* id, name, rating, position, height, foot, rare, pace, shooting, passing, dribbling, defending, heading, diving, handling, kicking, reflexes, speed, positioning\n",
    "\n",
    "<img src=\"img/fifa_info.png\", width=400>\n",
    "\n",
    "### Missing Value in Data Analysis\n",
    "How do i deal with missing value? What are the different methods to handle these missing values.\n",
    "￼\n",
    "It depends a lot on the specific case. However, some general methods are:\n",
    "\n",
    "##### Pattern Removal \n",
    "Remove pattern from dataset if such pattern has at least one missing value.\n",
    "If there are loads of patterns with missing values, however, I would not suggest such approach since the number of patterns in your dataset will drastically decrease and the training phase will not be adeguate.\n",
    "##### The mean/mode approach.\n",
    "If pattern has a missing value in position j take the mean (if j-th attribute is continuous) or mode (if j-th attribute is categorical) of the j-th column and substitute such mean/mode in your pattern's j-th position. Obviously in the mean/mode evaluation you should consider only non-missing values from column j.\n",
    "##### The conditional mean/mode.\n",
    "If you have the labels (i.e. supervised learning), you can consider the previous approach but taking into account, in the mean/mode evaluation, only (non-missing) elements from column j belonging to patterns that have the very same label as the pattern you're trying to fix. This essentially refines the previous method because you do not consider values for patterns belonging to a different class.\n",
    "##### Hot-decking.\n",
    "Given a certain dissimilarity metric, you can measure the dissimilarity between the pattern you want to fix and all the other patterns that are not missing values in the attribute to be imputed (j-th attribute in our case). Take the j-th feature from the most similar pattern and substitute it back in the j-th position of the pattern you want to fix.\n",
    "##### K-Nearest Neighbours.\n",
    "That is similar to Hot-decking but instead of considering the most similar pattern, you can consider the K most similar patterns that are not missing value in our j-th feature. Consider then the most frequent item (mode) amongst the j-th feature of these K patterns.\n",
    "\n",
    "\n",
    "Let's to apply all we have learn to this data set.\n",
    "\n",
    "#### Instructions\n",
    "> - Read ```data/fifa_numeric.csv``` with the ```read_csv``` function from the ```pandas``` module: ```data_pd``` \n",
    "> - Create a list of columns, ```lof```, without including ```id``` and ```name``` columns. For that, loop all columns (get the names from ```data_pd.columns```), and except for first and second, store the values of each column ```data_pd[col_name].values``` as an entry of the list ```lof```\n",
    "> - Define a list with the name of the columns: ```rating,position,height,foot, rare,pace,shooting,passing,dribbling, defending,heading,diving, handling,kicking,reflexes,speed,positioning```\n",
    "> - Convert the list ```lof``` to a tuple object by calling ```tuple```\n",
    "> - Convert this list into a ndarray of shape (8847, 17) by calling the function ```np.column_stack()``` with the tuple as an imput. This ndarray will be our data for this exercise, ```data```\n",
    "\n",
    "> - Missing data? How many observations (i.e. rows) have some missing features? Use the function ```isnan()``` from the ```numpy``` module to detect which values are missed, the output of isnan is a boolean array. To get the sum of all ```nan``` you can use ```sum``` also from ```numpy```\n",
    "> - Try to plot the histogram of column 2 ```data[:,2]```\n",
    "> - Now try to plot the histogram of column 6, ```data[:,6]```,  Did you got an error? Print its mean\n",
    "> - Some of the functions from ```numpy``` or ```scipy``` modules do not allow ```nan``` values, for that we will convert the ndarray into a ```masked array``` by calling the function ```np.ma.array()``` with ```data``` as the first argument, and the output of ```nan_in_data=np.isnana(data)``` as the argument for the optional parameter ```mask=nan_in_data```\n",
    "> - Explore the output of the previous step: ```data_ma```\n",
    "> - By using the function ```compressed()``` (which is a data member of your masked data), plot again the histogram of column 6 ```data_ma[:,6].compressed()``` as an input of ```hist``` \n",
    "> - Using EDA plots, explore data from column 6 and 7 of the ndarray ```data_ma```: histogram, bee swarm plot, box plot,  ecdf, scatter plot, ... \n",
    "> - Compute all statistics (explained in this session) from column 6\n",
    "> - Replace missing value by its mean\n",
    "> - Do we have outliers?\n",
    "> - correlations?"
   ]
  },
  {
   "cell_type": "code",
   "execution_count": null,
   "metadata": {},
   "outputs": [],
   "source": [
    "import numpy as np\n",
    "from scipy import loadtxt\n",
    "import seaborn as sns\n",
    "sns.set()\n",
    "\n",
    "from matplotlib import pylab as plt"
   ]
  },
  {
   "cell_type": "code",
   "execution_count": null,
   "metadata": {},
   "outputs": [],
   "source": []
  },
  {
   "cell_type": "code",
   "execution_count": null,
   "metadata": {},
   "outputs": [],
   "source": []
  },
  {
   "cell_type": "code",
   "execution_count": null,
   "metadata": {},
   "outputs": [],
   "source": []
  },
  {
   "cell_type": "code",
   "execution_count": null,
   "metadata": {},
   "outputs": [],
   "source": []
  }
 ],
 "metadata": {
  "kernelspec": {
   "display_name": "Python 2",
   "language": "python",
   "name": "python2"
  },
  "language_info": {
   "codemirror_mode": {
    "name": "ipython",
    "version": 2
   },
   "file_extension": ".py",
   "mimetype": "text/x-python",
   "name": "python",
   "nbconvert_exporter": "python",
   "pygments_lexer": "ipython2",
   "version": "2.7.13"
  }
 },
 "nbformat": 4,
 "nbformat_minor": 2
}
