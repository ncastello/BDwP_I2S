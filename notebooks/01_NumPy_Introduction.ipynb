{
 "cells": [
  {
   "cell_type": "markdown",
   "metadata": {
    "collapsed": true
   },
   "source": [
    "# Introduction to NumPy\n",
    "\n",
    "__NumPy__ (as well as __SciPy__) is a Python package to efficiently do data science. Learn to work with the __NumPy__ array, a faster and more powerful alternative to the list, and take your first steps in data exploration.\n",
    "\n",
    "\n",
    "It provides:\n",
    "\n",
    "- a powerful N-dimensional array object\n",
    "- sophisticated (broadcasting) functions\n",
    "- tools for integrating C/C++ and Fortran code\n",
    "- useful linear algebra, Fourier transform, and random number capabilities\n",
    "- and much more\n",
    "\n",
    "Besides its obvious scientific uses, NumPy can also be used as an efficient multi-dimensional container of generic data. Arbitrary data-types can be defined. This allows NumPy to seamlessly and speedily integrate with a wide variety of databases.\n",
    "\n",
    "\n",
    "<font color=\"orange\">\n",
    "## Why you should use ndarray objects?\n",
    "</font>\n",
    "..."
   ]
  },
  {
   "cell_type": "markdown",
   "metadata": {},
   "source": [
    "# Lists Recap\n",
    "--------------------\n",
    "\n",
    "- Powerful\n",
    "- Collection of values\n",
    "- Hold different types\n",
    "- Change, add, remove\n",
    "<font color=\"red\">\n",
    "- Need for Data Science\n",
    "    - mathematical operations over collections\n",
    "    - Speed\n",
    "</font>"
   ]
  },
  {
   "cell_type": "markdown",
   "metadata": {},
   "source": [
    "# Illustration with an example\n",
    "------------------------------------------\n",
    "\n",
    "\n",
    "<font color=green>\n",
    "#### Calculate the body mass index for each family member\n",
    "</font>\n",
    "\\begin{equation*}\n",
    "BMI = \\frac{weight[kg]}{height[cm]^{2}}\n",
    "\\end{equation*}\n"
   ]
  },
  {
   "cell_type": "code",
   "execution_count": 1,
   "metadata": {},
   "outputs": [],
   "source": [
    "# Illustration\n",
    "# height and weight of all your family ;)\n",
    "\n",
    "height = [1.73, 1.68, 1.71, 1.25, 1.89, 1.58]\n",
    "\n",
    "weight = [65.4, 59.2, 63.6, 23.0, 88.4, 68.7]\n"
   ]
  },
  {
   "cell_type": "code",
   "execution_count": null,
   "metadata": {
    "scrolled": true
   },
   "outputs": [],
   "source": [
    "# Calculate the body mass index for each family member\n",
    "bmi = weight / height ** 2"
   ]
  },
  {
   "cell_type": "markdown",
   "metadata": {},
   "source": [
    "<font color=\"red\">\n",
    "### Unfortunately, python shows and error, because it __has no idea how to do calculation with list!!__\n",
    "</font>\n",
    "However, it could solve this by going one element after the other and calculate the BMI for each member of the family separetly\n",
    "```\n",
    "bmi = []\n",
    "for each element of a pair of height and weight:\n",
    "    add w/h**2.0 to the list BMI\n",
    "```\n",
    "but this is terrebly inefficient (**Exercise 10**).\n"
   ]
  },
  {
   "cell_type": "code",
   "execution_count": null,
   "metadata": {},
   "outputs": [],
   "source": [
    "# do the loop to compute the BMI for each member of the family\n",
    "bmi = []\n",
    "\n",
    "# define the list to store all the BMI values\n",
    "talla = zip(weight,height)\n",
    "\n",
    "print \"\\t * talla is a \", type(talla), \" of \", type(talla[0])\n",
    "print \"\\t * Showing the first 2 elements of talla: \", talla[:2]\n",
    "\n",
    "# for each member of the family compute its BMI\n",
    "for w,h in talla:\n",
    "    bmi.append( w/h**2)\n",
    "    \n",
    "print \"\\t * Showing the first two elements of bmi: \" ,bmi[:2]"
   ]
  },
  {
   "cell_type": "markdown",
   "metadata": {},
   "source": [
    "\n",
    "# Solution: NumPy\n",
    "\n",
    "A more elegant solution is to use  [__NumPy__](https://www.numpy.org/) or __Numeric Python__\n",
    "- NumPy Array is an alternative to regular __Python List__\n",
    "- calculations over entire arrays\n",
    "- easy and fast\n",
    "\n",
    "<font color=green>\n",
    "### Using array objects, calculate the BMI for each member of the family\n",
    "</font>\n",
    "#### Instructions\n",
    "> - Import numpy as np (as it is usually known)\n",
    "> - Create a NumPy array for the variable __np_height__ by calling the numpy function array\n",
    "> - Show the output of __np_height__\n",
    "> - Create a NumPy array for the variable __np_weight__ by calling the numpy function array\n",
    "> - Calculate every body BMI with a single call array and store it under the variable __np_bmi__"
   ]
  },
  {
   "cell_type": "code",
   "execution_count": null,
   "metadata": {},
   "outputs": [],
   "source": [
    "# import numpy as np\n",
    "import numpy as np\n",
    "\n",
    "# create an array for the height\n",
    "np_height = np.array(height)\n",
    "\n",
    "# create an array for the weight\n",
    "np_weight = np.array(weight)\n",
    "\n",
    "# in once, calculate the bmi of all members of the family\n",
    "np_bmi = np_weight/np_height**2\n",
    "\n",
    "# show the BMI\n",
    "print \"\\t * The BMI of each member of the family is \", np_bmi"
   ]
  },
  {
   "cell_type": "code",
   "execution_count": null,
   "metadata": {},
   "outputs": [],
   "source": [
    "# re-define the bmi (from DIY)\n",
    "bmi_ex1 = np.array( bmi )\n",
    "\n",
    "# ratio between the two bmi arrays\n",
    "ratio_bmi = np_bmi/bmi_ex1\n",
    "\n",
    "# print the ratio and compare both results are compatible\n",
    "print \"\\n\\t * Are both results compatible?\", ratio_bmi\n"
   ]
  },
  {
   "cell_type": "markdown",
   "metadata": {},
   "source": [
    "# Type Of NumPy Arrays\n",
    "------------------------------------------\n",
    "\n",
    "\n",
    "If you know what a matrix is, numpy ndarrays are just that!\n",
    "- __1D array__ is just a vector (__height_in, weight_lb__ in the example)\n",
    "- __2D array__ is just a matrix,  a set of numbers arranged in rows and columns so as to form a rectangular array (__talla__ in the example)\n",
    "- __ndarray__ is just a matrix of dimension NxM"
   ]
  },
  {
   "cell_type": "code",
   "execution_count": null,
   "metadata": {},
   "outputs": [],
   "source": [
    "# load the data by using the pandas package (NEXT CLASS)\n",
    "import pandas as pd\n",
    "data = pd.read_csv(\"data/numpy_intro_data.csv\", index_col=\"row\")\n",
    "\n",
    "# read height and weight as 1D array\n",
    "height_in = data[\"height (inches)\"].values\n",
    "weight_lb = data[\"weight (pounds)\"].values\n",
    "\n",
    "# show table (first 5 rows)\n",
    "data.head(10)"
   ]
  },
  {
   "cell_type": "markdown",
   "metadata": {},
   "source": [
    "If you ask for the type of ```height_in``` or ```weight_lb```, numpy tells you is an object classified as an **ndarray**, which means that\n",
    "\n",
    "            ndarray = N-dimensional array\n",
    "\n",
    "It is possible to create a 1D array, 2D array, 3D array, ... 7D array\n"
   ]
  },
  {
   "cell_type": "markdown",
   "metadata": {},
   "source": [
    "## 2D NumPy Arrays\n",
    "We can create a 2D array from two 1D arrays like this\n",
    "\n",
    "```python\n",
    "In [1]: talla_2d = np.column_stack( (height_in,weight_lb) )\n",
    "\n",
    "```\n",
    "\n",
    "If you print out ```talla_2d``` you can see that it is a rectangular data structure"
   ]
  },
  {
   "cell_type": "markdown",
   "metadata": {},
   "source": [
    "each sublist in the list, corresponds to a row in a two dimensional array; and each row corresponds to a 1D array, i.e.  ```height_in``` and ```weight_lb```.\n",
    "\n",
    "from ```shape``` we can see that we end it with 1015 rows and 2 columns\n",
    "\n",
    "```python\n",
    "In [1]: talla_2d.shape\n",
    "Out[1]: (1015,2)\n",
    "```\n",
    "\n",
    "\n",
    "```shape``` is an attribute of the ```ndarray``` and can give you more information about how the data looks like.\n"
   ]
  },
  {
   "cell_type": "code",
   "execution_count": null,
   "metadata": {},
   "outputs": [],
   "source": [
    "# create a 2D array\n",
    "talla_2d = np.column_stack( (height_in,weight_lb) )\n",
    "\n",
    "talla_2d"
   ]
  },
  {
   "cell_type": "code",
   "execution_count": null,
   "metadata": {},
   "outputs": [],
   "source": [
    "talla_2d.shape"
   ]
  },
  {
   "cell_type": "markdown",
   "metadata": {},
   "source": [
    "\n",
    "### Note that one array can only contain only one single type\n",
    "\n",
    "If you change one single element from the array to be __string__ all the array will be converted to __string__  to end up with an homogenious array\n",
    "```python\n",
    "In [2]: np.array([65.2,59.2,63.6,\"88.4\"])\n",
    "Out[2]: array(['65.2', '59.2', '63.6', '88.4'],dtype='|S32')\n",
    "```\n"
   ]
  },
  {
   "cell_type": "code",
   "execution_count": null,
   "metadata": {},
   "outputs": [],
   "source": [
    "np.array([65.2,59.2,63.6,\"88.4\"])"
   ]
  },
  {
   "cell_type": "code",
   "execution_count": null,
   "metadata": {},
   "outputs": [],
   "source": [
    "[65.2,59.2,63.6,\"88.4\"]"
   ]
  },
  {
   "cell_type": "markdown",
   "metadata": {},
   "source": [
    "# NumPy Remarks\n",
    "- NumPy arrays: contain only one type (example A)\n",
    "- NumPy arrays comes with its own operations (example B)\n",
    "\n",
    "<font color=red>\n",
    "#### DIFFERENT TYPES, DIFFERENT BEHAVIOR!!\n",
    "</font>\n",
    "### Let's see it with examples"
   ]
  },
  {
   "cell_type": "code",
   "execution_count": null,
   "metadata": {},
   "outputs": [],
   "source": [
    "#####    EXAMPLE A  ####\n",
    "# list of three elements all of them of different types\n",
    "l_of_difftypes = [1.0, \"is\", True]\n",
    "\n",
    "# convert this list into an array, what happen?\n",
    "np_of_difftypes = np.array( l_of_difftypes )\n",
    "\n",
    "print \"\\n\\t * All elements are converted to strings \", np_of_difftypes"
   ]
  },
  {
   "cell_type": "code",
   "execution_count": null,
   "metadata": {},
   "outputs": [],
   "source": [
    "#####    EXAMPLE B   ####\n",
    "l1 = [1,2,3]\n",
    "l2 = [4,5,6]\n",
    "\n",
    "# sum l1 and l2\n",
    "l_sum = l1+l2\n",
    "\n",
    "# convert l1 and l2 into arrays, as a1 and a2\n",
    "a1 = np.array(l1)\n",
    "a2 = np.array(l2)\n",
    "\n",
    "# sum a1 and a2\n",
    "a_sum = a1+a2\n",
    "\n",
    "# do you get the same results for l1+l2 and a1+a2?\n",
    "print \"\\n\\t * the sum of two lists is another list where the two list are based together \", l_sum\n",
    "print \"\\t * however, the sum of two arrays is the sum of the individual elements \", a_sum\n"
   ]
  },
  {
   "cell_type": "markdown",
   "metadata": {},
   "source": [
    "# NumPy Subsetting\n",
    "------------------------------------------\n",
    "\n",
    "\n",
    "You've seen it with your own eyes: Python ```lists``` and numpy ```arrays``` sometimes behave differently. Luckily, there are still certainties in this world. For isntance, subsetting (using the square bracket notation on lists or arrays) works exactly the same.\n",
    "\n",
    "There are several ways to access to the elements of an array:\n",
    "- as you do in lists\n",
    "- by using a boolean array (to access at some specific elements, for instance those with bmi>23)\n",
    "\n"
   ]
  },
  {
   "cell_type": "code",
   "execution_count": null,
   "metadata": {},
   "outputs": [],
   "source": [
    "data.head(7)"
   ]
  },
  {
   "cell_type": "markdown",
   "metadata": {},
   "source": [
    "#### Selecting different elements from the table:\n",
    "\n",
    "1. Selecting with brackets\n",
    "Supouse you want the first row and then the 2th element in that row. To select the row you need to insert the index 0 between brackets\n",
    "```python\n",
    "In [10]: talla_2d[0]\n",
    "Out[10]: array([ 74, 180])\n",
    "```\n",
    "to select the 2th element, you just extend the same call with just an extra brackets\n",
    "```python\n",
    "In [11]: talla_2d[0][1]\n",
    "Out[11]: 180\n",
    "```\n",
    "In general, you select one row, and from that row you select the column\n",
    "\n",
    "2. Selecting with commas, this call is as follows\n",
    "```python\n",
    "In [12]: talla_2d[0,1]\n",
    "Out[11]: 180\n",
    "```\n",
    "the value before the comma specify the row, and the one after the column\n",
    "\n",
    "3. Selecting specific regions\n",
    "Suppose you want to select the height and weight of the 2nd and 3th member of the family. So., to select both both rows you just put __:__ before the coma, and to select the 2nd and 3th columns, use __1:3__ to select consecutive columns\n",
    "```python\n",
    "In [14]: np_2d = np.array([[1.73, 1.68, 1.71, 1.25, 1.89, 1.58], [65.4, 59.2, 63.6, 23.0, 88.4, 68.7]])\n",
    "In [15]: np_2d[:,1:3]\n",
    "Out[15]: array([[  1.68,   1.71],\n",
    "                [ 59.2 ,  63.6 ]])\n",
    "```\n",
    "The intersection gives us an array with two rows and two columns. __DIY: Select all family weights__\n",
    "\n",
    "4. Selecting with boolean arrays (to select specific values within the *table*)\n",
    "\n",
    "```python\n",
    "In [16]: np_bmi\n",
    "Out[16]: array([ 21.85171573,  20.97505669,  21.75028214,  14.72      ,\n",
    "         24.7473475 ,  27.51962826])\n",
    "         \n",
    "In [17]: np_bmi_mask = np_bmi>23\n",
    "\n",
    "In [18]: np_bmi[np_bmi_mask]\n",
    "Out[18]: array([ 24.7473475 ,  27.51962826])\n",
    "\n",
    "```\n"
   ]
  },
  {
   "cell_type": "code",
   "execution_count": null,
   "metadata": {},
   "outputs": [],
   "source": [
    "# show the second element of the array np_bmi\n",
    "print \"\\t * the second element of the array np_bmi is\", np_bmi[2]\n",
    "\n",
    "# show the last element of an array\n",
    "print \"\\t * the last element of the array np_bmi is\", np_bmi[-1]\n",
    "\n",
    "# show only those np_bmi > 23\n",
    "np_bmi_mask = np_bmi>23\n",
    "\n",
    "print \"\\t * Showing only those bmi higher than 23: \", np_bmi[ np_bmi_mask ] \n"
   ]
  },
  {
   "cell_type": "markdown",
   "metadata": {},
   "source": [
    "# Let's practice\n",
    "----------------------\n",
    "\n"
   ]
  },
  {
   "cell_type": "markdown",
   "metadata": {},
   "source": [
    "<font color=green>\n",
    "# Exercise 1. Your First NumPy Array\n",
    "</font>\n",
    "In this exercise, we're going to dive into the world of baseball. Along the way, you'll get comfortable with the basics of numpy, a powerful package to do data science.\n",
    "\n",
    "A list baseball has already been defined in the Python script, representing the height of some baseball players in centimeters. Can you add some code here and there to create a numpy array from it?\n",
    "\n",
    "#### Instructions\n",
    "> - Import the numpy package as np, so that you can refer to numpy with np.\n",
    "> - Use np.array() to create a numpy array from baseball. Name this array np_baseball.\n",
    "> - Print out the type of np_baseball to check that you got it right."
   ]
  },
  {
   "cell_type": "code",
   "execution_count": null,
   "metadata": {},
   "outputs": [],
   "source": [
    "# Create list baseball\n",
    "baseball = [180, 215, 210, 210, 188, 176, 209, 200]\n",
    "\n",
    "# Import the numpy package as np\n",
    "import numpy as .....\n",
    "\n",
    "# Create a numpy array from baseball: np_baseball\n",
    "np_baseball = np.array(......)\n",
    "\n",
    "# Print out type of np_baseball\n",
    "print \"\\t * the type of np_baseball is \", type(np_baseball)"
   ]
  },
  {
   "cell_type": "markdown",
   "metadata": {},
   "source": [
    "<font color=green>\n",
    "# Exercise 2. Baseball players' height\n",
    "</font>\n",
    "You are a huge baseball fan. You decide to call the MLB (Major League Baseball) and ask around for some more statistics on the height of the main players. They pass along data on more than a thousand players, which is stored as a regular Python list: __height_in__. The height is expressed in inches. __Can you make a numpy array out of it and convert the units to meters?__"
   ]
  },
  {
   "cell_type": "code",
   "execution_count": null,
   "metadata": {},
   "outputs": [],
   "source": [
    "# load the data from the csv file by using the loadtxt numpy function\n",
    "# height and weight are available as a regular lists\n",
    "index,np_age_year, height_in, weight_lb = np.loadtxt(\"data/numpy_intro_data.csv\", delimiter=\",\", \n",
    "                                                  unpack=True, skiprows=1)\n",
    "\n",
    "# convet into list objects type\n",
    "height_in = list(height_in)\n",
    "weight_lb = list(weight_lb)\n"
   ]
  },
  {
   "cell_type": "markdown",
   "metadata": {},
   "source": [
    "\n",
    "#### Instructions\n",
    "> - Create a numpy array from height_in. Name this new array np_height_in.\n",
    "> - Print np_height_in.\n",
    "> - Multiply np_height_in with 0.0254 to convert all height measurements from inches to meters. Store the new values in a new array, np_height_m.\n",
    "> - Print out np_height_m and check if the output makes sense.\n"
   ]
  },
  {
   "cell_type": "code",
   "execution_count": null,
   "metadata": {},
   "outputs": [],
   "source": [
    "\n",
    "# Create a numpy array from height_in: np_height_in\n",
    "np_height_in = np.array(........)\n",
    "\n",
    "# Print out np_height_in\n",
    "print \"\\t * height in inches \", np_height_in\n",
    "\n",
    "# Convert np_height_in to m: np_height_m\n",
    "np_height_m = ....... * 0.0254\n",
    "\n",
    "# Print np_height_m\n",
    "print \"\\t * height in meters \", np_height_m"
   ]
  },
  {
   "cell_type": "markdown",
   "metadata": {},
   "source": [
    "<font color=green>\n",
    "# Exercise 3.  Baseball player's BMI\n",
    "</font>\n",
    "The MLB also offers to let you analyze their weight data. Again, both are available as regular Python lists: height_in and weight_lb. height_in is in inches and weight_lb is in pounds.\n",
    "\n",
    "It's now possible to calculate the BMI of each baseball player. Python code to convert height_in to a numpy array with the correct units is already available in the workspace (previous exercise). Follow the instructions step by step and finish the game!\n",
    "\n",
    "#### Instructions\n",
    "> - Create a numpy array from the __weight_lb__ list with the correct units: multiply by 0.453592 to go from pounds to kilograms. Store the resulting numpy array as __np_weight_kg__.\n",
    "> - Use __np_height_m__ and __np_weight_kg__ to calculate the BMI of each player.\n",
    "> - Save the resulting numpy array as __bmi__.\n",
    "> - Print out __bmi__."
   ]
  },
  {
   "cell_type": "code",
   "execution_count": null,
   "metadata": {},
   "outputs": [],
   "source": [
    "# height and weight are available as regular lists\n",
    "\n",
    "# Create array from weight_lb with metric units: np_weight_kg\n",
    "np_weight_kg = ....(....) * ....\n",
    "\n",
    "# Calculate the BMI: bmi\n",
    "bmi = ..... / ....**2\n",
    "\n",
    "# Print out bmi\n",
    "print \"\\n\\t * The BMI of each baseball player are \", bmi"
   ]
  },
  {
   "cell_type": "markdown",
   "metadata": {},
   "source": [
    "<font color=green>\n",
    "# Exercise 4. Lightweight baseball players\n",
    "</font>\n",
    "To subset both regular Python lists and numpy arrays, you can use square brackets:\n",
    "\n",
    "```python\n",
    "x = [4 , 9 , 6, 3, 1]\n",
    "x[1]\n",
    "import numpy as np\n",
    "y = np.array(x)\n",
    "y[1]\n",
    "```\n",
    "\n",
    "For ```numpy``` specifically, you can also use boolean ```numpy``` arrays:\n",
    "```python\n",
    "high_mask = y > 5\n",
    "y[high_mask]\n",
    "```\n",
    "The code that calculates the BMI of all baseball players is already included (previous exercise). Follow the instructions and reveal interesting things from the data!\n",
    "\n",
    "#### Instructions\n",
    "> - Create a boolean ```numpy array```: the element of the array should be True if the corresponding baseball player's BMI is below 21. You can use the < operator for this. Name the array ```light```.\n",
    "> - Print the array ```light```.\n",
    "> - Print out a ```numpy array``` with the BMIs of all baseball players whose BMI is below 21. Use ```light``` inside square brackets to do a selection on the ```bmi``` array.\n"
   ]
  },
  {
   "cell_type": "code",
   "execution_count": null,
   "metadata": {},
   "outputs": [],
   "source": [
    "# Create the light array\n",
    "light = .... < 21\n",
    "\n",
    "# Print out light\n",
    "print \"\\n\\t * Mask for those players with bmi < 21: \", light\n",
    "\n",
    "# Print out BMIs of all baseball players whose BMI is below 21\n",
    "print \"\\t * BMI of the light players: \", ....[....]\n",
    "\n",
    "print \"\\n\\t * There are {0} players with BMI below 21 \".format(len(....[....]))"
   ]
  },
  {
   "cell_type": "markdown",
   "metadata": {},
   "source": [
    "<font color=green>\n",
    "# Exercise 5. Lists vs Arrays\n",
    "</font>\n",
    "As we said, ```numpy``` is great for doing vector arithmetic. If you compare its functionality with regular Python ```lists```, however, some things have changed.\n",
    "\n",
    "- First of all, <font color=red>numpy arrays cannot contain elements with different types</font>. If you try to build such a list, some of the elements' types are changed to end up with a homogeneous list. __This is known as type coercion__.\n",
    "\n",
    "- Second, the typical arithmetic operators, such as ```+```, ```-```, ```*``` and ```/``` have a different meaning for regular Python lists and numpy arrays.\n",
    "\n",
    "Have a look at this line of code:\n",
    "```python\n",
    "np.array([True, 1, 2]) + np.array([3, 4, False])\n",
    "```\n",
    "#### Can you tell which code chunk builds the exact same Python object? The ```numpy``` package is already imported as np, so you can start experimenting in the IPython Shell straight away!"
   ]
  },
  {
   "cell_type": "markdown",
   "metadata": {},
   "source": [
    "#### Possible Answers\n",
    "> - ```np.array([True, 1, 2, 3, 4, False])```\n",
    "> - ```np.array([4, 3, 0]) + np.array([0, 2, 2])```\n",
    "> - ```np.array([1, 1, 2]) + np.array([3, 4, -1])```\n",
    "> - ```np.array([0, 1, 2, 3, 4, 5])```"
   ]
  },
  {
   "cell_type": "code",
   "execution_count": null,
   "metadata": {},
   "outputs": [],
   "source": [
    "### play to find the correct answer"
   ]
  },
  {
   "cell_type": "markdown",
   "metadata": {},
   "source": [
    "<font color=green>\n",
    "# Exercise 6. Subsetting NumPy Arrays\n",
    "</font>\n",
    "You've seen it with your own eyes: Python ```lists``` and numpy ```arrays``` sometimes behave differently. Luckily, there are still certainties in this world. For example, subsetting (using the square bracket notation on lists or arrays) works exactly the same. To see this for yourself, try the following lines of code in the IPython Shell:\n",
    "```python\n",
    "x = [\"a\", \"b\", \"c\"]\n",
    "x[1]\n",
    "\n",
    "np_x = np.array(x)\n",
    "np_x[1]\n",
    "```\n",
    "#### Instructions\n",
    "> - Subset ```np_weight_lb``` by printing out the element at index 50.\n",
    "> - Print out a sub-array of ```np_height_in``` that contains the elements at index 100 up to and including index 108."
   ]
  },
  {
   "cell_type": "code",
   "execution_count": null,
   "metadata": {},
   "outputs": [],
   "source": [
    "# height and weight are available as a regular lists\n",
    "\n",
    "# Import numpy\n",
    "# import numpy as np\n",
    "\n",
    "# Store weight and height lists as numpy arrays\n",
    "np_weight_lb = np.array(.....)\n",
    "np_height_in = np.array(.....)\n",
    "\n",
    "# Print out the weight at index 50\n",
    "print \"\\n\\t * The weight of the 50th player is \", .....[....]\n",
    "\n",
    "# Print out sub-array of np_height_in: index 100 up to and including index 108\n",
    "print \"\\t * The height of the 100 up to 108th are \", .....[.....]"
   ]
  },
  {
   "cell_type": "markdown",
   "metadata": {},
   "source": [
    "<font color=green>\n",
    "# Exercise 7. Your First 2D NumPy Array\n",
    "</font>\n",
    "Before working on the actual MLB data, let's try to create a 2D ```numpy``` array from a small list of lists.\n",
    "\n",
    "In this exercise, ```baseball``` is a list of lists. The main list contains 4 elements. Each of these elements is a list containing the height and the weight of 4 baseball players, in this order. ```baseball``` is already coded for you in the script.\n",
    "\n",
    "#### Instructions\n",
    "> - Use ```np.array()``` to create a 2D numpy array from ```baseball```. Name it ```np_baseball```.\n",
    "> - Print out the type of ```np_baseball```.\n",
    "> - Print out the shape attribute of ```np_baseball```. Use ```np_baseball.shape```.\n"
   ]
  },
  {
   "cell_type": "code",
   "execution_count": null,
   "metadata": {},
   "outputs": [],
   "source": [
    "# Import numpy\n",
    "# import numpy as np\n",
    "# Create baseball, a list of lists\n",
    "baseball = [[180, 78.4],\n",
    "            [215, 102.7],\n",
    "            [210, 98.5],\n",
    "            [188, 75.2]]\n",
    "\n",
    "# Create a 2D numpy array from baseball: np_baseball\n",
    "np_baseball = np.array(.....)\n",
    "\n",
    "# Print out the type of np_baseball\n",
    "print \"\\t * type of np_baseball \", type(....)\n",
    "\n",
    "# Print out the shape of np_baseball\n",
    "print \"\\t * shape of np_baseball \", ....."
   ]
  },
  {
   "cell_type": "markdown",
   "metadata": {},
   "source": [
    "<font color=green>\n",
    "# Exercise 8. Baseball data in 2D form\n",
    "</font>\n",
    "You have another look at the MLB data and realize that it makes more sense to restructure all this information in a 2D numpy array. This array should have 1015 rows, corresponding to the 1015 baseball players you have information on, and 2 columns (for ```np_height_kg``` and ```np_weight_m```).\n",
    "\n",
    "        rows :: observations/ samples\n",
    "        columns :: attributes/ features of each observation (sample)\n",
    "\n",
    "Can you store the data as a 2D array to unlock numpy's extra functionality?\n",
    "\n",
    "#### Instructions\n",
    "> - Use zip() to create a list containing tuple of pairs where the first element is the players' height in m and the second holds player weight, in kg. \n",
    "> - Use np.array() to create a 2D numpy array from baseball. Name it np_baseball.\n",
    "> - Print out the shape attribute of np_baseball.\n"
   ]
  },
  {
   "cell_type": "code",
   "execution_count": null,
   "metadata": {},
   "outputs": [],
   "source": [
    "# baseball is available as a regular list of lists\n",
    "# from Ex 1, we have np_weight_kg, np_height_m\n",
    "talla_l = zip(np_height_m, ....)\n",
    "\n",
    "# Create a 2D numpy array from height_in, weight_lb: np_baseball\n",
    "np_baseball = np.array( .... )\n",
    "\n",
    "# another way will be using np.column_stack\n",
    "# np_baseball = np.column_stack( (np_height_m, np_weight_kg) )\n",
    "\n",
    "# Print out the shape of np_baseball\n",
    "print \"\\t * The shape of np_baseball is \", np_baseball.shape"
   ]
  },
  {
   "cell_type": "markdown",
   "metadata": {},
   "source": [
    "<font color=green>\n",
    "# Exercise 9. Subsetting 2D NumPy Arrays\n",
    "</font>\n",
    "If your 2D numpy array has a regular structure, i.e. each row and column has a fixed number of values, complicated ways of subsetting become very easy. Have a look at the code below where the elements \"a\" and \"c\" are extracted from a list of lists.\n",
    "\n",
    "```python\n",
    "\n",
    "# regular list of lists\n",
    "x = [[\"a\", \"b\"], [\"c\", \"d\"]]\n",
    "[x[0][0], x[1][0]]\n",
    "\n",
    "# numpy\n",
    "import numpy as np\n",
    "np_x = np.array(x)\n",
    "np_x[:,0]\n",
    "\n",
    "```\n",
    "For regular Python lists, this is a real pain. For 2D ```numpy``` arrays, however, it's pretty intuitive! The indexes before the comma refer to the rows, while those after the comma refer to the columns. The ```:``` is for slicing; in this example, it tells Python to include all rows.\n",
    "\n",
    "        np_array[ row_index, column_index]\n",
    "\n",
    "The code that converts the pre-loaded baseball list to a 2D numpy array is already done. ```np_baseball```: the first column contains the players' height in inches and the second column holds player weight, in pounds. Add some lines to make the correct selections. Remember that in Python, the first element is at index 0!\n",
    "\n",
    "#### Instructions\n",
    "> - Print out the 50th row of np_baseball.\n",
    "> - Make a new variable, np_weight_lb, containing the entire second column of np_baseball.\n",
    "> - Select the height (first column) of the 124th baseball player in np_baseball and print it out."
   ]
  },
  {
   "cell_type": "code",
   "execution_count": null,
   "metadata": {},
   "outputs": [],
   "source": [
    "# Print out the 50th row of np_baseball\n",
    "print ....[49,:]\n",
    "\n",
    "# Select the entire second column of np_baseball: np_weight_lb\n",
    "print ....\n",
    "\n",
    "# Print out height of 124th player\n",
    "print ...."
   ]
  },
  {
   "cell_type": "markdown",
   "metadata": {},
   "source": [
    "<font color=green>\n",
    "# Exercise 10. Compute the BMI using lists\n",
    "</font>\n",
    "#### Instructions\n",
    "> - define a variable to store all the BMI values as __bmi__\n",
    "> - define a list of tuples, where each tuple contain the value of the weight and height of each member of the family, __talla__\n",
    "> - using the loop __for__, go over all values of __talla__, compute its BMI value, and add it to the list __bmi__"
   ]
  },
  {
   "cell_type": "code",
   "execution_count": null,
   "metadata": {},
   "outputs": [],
   "source": [
    "# assuming the lists\n",
    "height = [1.73, 1.68, 1.71, 1.25, 1.89, 1.58]\n",
    "\n",
    "weight = [65.4, 59.2, 63.6, 23.0, 88.4, 68.7]\n",
    "\n",
    "# do the loop to compute the BMI for each member of the family\n",
    "bmi = []\n",
    "\n",
    "# define the list to store all the BMI values\n",
    "talla = zip(weight,height)\n",
    "\n",
    "print \"\\t * talla is a \", type(talla), \" of \", type(talla[0])\n",
    "print \"\\t * Showing the first 2 elements of talla: \", talla[:2]\n",
    "\n",
    "# for each member of the family compute its BMI\n",
    "for ... , .... in ....:\n",
    "    bmi.append( w/h**2)\n",
    "    \n",
    "print \"\\t * Showing the first two elements of bmi: \" , ...."
   ]
  },
  {
   "cell_type": "markdown",
   "metadata": {},
   "source": [
    "<font color=green>\n",
    "# Exercise 11. 2D Arithmetic\n",
    "</font>\n",
    "Remember how you calculated the Body Mass Index for all baseball players? ```numpy``` was able to perform all calculations element-wise (i.e. element by element). For 2D ```numpy``` arrays this isn't any different! You can combine matrices with single numbers, with vectors, and with other matrices.\n",
    "\n",
    "Execute the code below in the IPython shell and see if you understand:\n",
    "\n",
    "```python\n",
    "import numpy as np\n",
    "np_mat = np.array([[1, 2],\n",
    "                   [3, 4],\n",
    "                   [5, 6]])\n",
    "np_mat * 2\n",
    "np_mat + np.array([10, 10])\n",
    "np_mat + np_mat\n",
    "```\n",
    "\n",
    "```np_baseball``` is coded for you: it's again a 2D ```numpy``` array with 3 columns representing height (in inches), weight (in pounds) and age (in years). "
   ]
  },
  {
   "cell_type": "code",
   "execution_count": null,
   "metadata": {},
   "outputs": [],
   "source": [
    "np_baseball = np.column_stack((np_height_in, np_weight_lb, np_age_year) )\n",
    "np_baseball.shape"
   ]
  },
  {
   "cell_type": "code",
   "execution_count": null,
   "metadata": {},
   "outputs": [],
   "source": [
    "# creating the update 3D array\n",
    "Nrows = 1015\n",
    "\n",
    "np_uncertanty = np.column_stack( (np.random.normal(1.008,0.20,Nrows), np.random.normal(-0.21,10.089,Nrows), \n",
    "                         np.zeros_like(np_baseball.T[2])) )\n",
    "uncertanty.shape"
   ]
  },
  {
   "cell_type": "markdown",
   "metadata": {},
   "source": [
    "#### Instructions\n",
    "> - You managed to get hold of the changes in height, weight and age of all baseball players. It is available as a 2D numpy array, **np_uncertanty**. Add **np_baseball** and **np_uncertanty** and print out the first 5 elements of result.\n",
    "> - You want to convert the units of height and weight to metric (meters and kilograms respectively). As a first step, create a numpy array with three values: 0.0254, 0.453592 and 1. Name this array conversion.\n",
    "> - Multiply np_baseball with conversion and print out the first 5 elements of the result."
   ]
  },
  {
   "cell_type": "code",
   "execution_count": null,
   "metadata": {},
   "outputs": [],
   "source": [
    "# Print out addition of np_baseball and np_uncertanty\n",
    "result = .... + ....\n",
    "print ....[:5]\n",
    "\n",
    "# Create numpy array: conversion\n",
    "conversion = np.array([0.0254, 0.453592,1])\n"
   ]
  },
  {
   "cell_type": "code",
   "execution_count": null,
   "metadata": {},
   "outputs": [],
   "source": [
    "\n",
    "# Print out product of np_baseball and conversion\n",
    "np_baseball_su = .... * conversion \n",
    "\n",
    "# print out 5 first elements of the results\n",
    "print ....[:5]"
   ]
  },
  {
   "cell_type": "code",
   "execution_count": null,
   "metadata": {},
   "outputs": [],
   "source": []
  }
 ],
 "metadata": {
  "kernelspec": {
   "display_name": "Python 2",
   "language": "python",
   "name": "python2"
  },
  "language_info": {
   "codemirror_mode": {
    "name": "ipython",
    "version": 2
   },
   "file_extension": ".py",
   "mimetype": "text/x-python",
   "name": "python",
   "nbconvert_exporter": "python",
   "pygments_lexer": "ipython2",
   "version": "2.7.13"
  }
 },
 "nbformat": 4,
 "nbformat_minor": 2
}
