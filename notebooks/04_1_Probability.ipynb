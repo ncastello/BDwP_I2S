{
 "cells": [
  {
   "cell_type": "markdown",
   "metadata": {
    "collapsed": true
   },
   "source": [
    "# Thinking Statistically\n",
    "***\n",
    "# 1. Discrete variables\n",
    "\n",
    "Statistical inference rests upon probability. Because we can very rarely say anything meaningful with absolute certainty from data, we use probabilistic language to make quantitative statements about data. In this chapter, you will learn how to think probabilistically about discrete quantities, those that can only take certain values, like integers. It is an important first step in building the probabilistic language necessary to think statistically.\n",
    "\n",
    "\n",
    "\n",
    "Imagine you measured the petal lengths of 50 flowers of a certain species, \n",
    "\n",
    "<img src=\"img/probability_ex1.png\",width=300>\n",
    "\n",
    "... but there are millions of htese flowers on the planet. **Can you tell me the mean petal length of all the flowers of that species?**\n",
    "\n",
    "If we measure another 50 flowers, I get a similar, but quantitatively different set of measurements . **Can now you tell me what value I would get for the mean petal length if I measured another 50 flowers?** We just do not have the language to do that without probability.\n",
    "\n",
    "<img src=\"img/probability_ex2.png\",width=300>\n",
    "\n",
    "Probabilistic reasoning allows us to describe uncertaintly. Though you can not tell me exactly what the mean of the next 50 petal lengths you measure will be. _You could said that is more probable to be close to what you got in the first 50 measurements that it is to be much greater._\n",
    "\n",
    "### Statistical inference\n",
    "\n",
    "We can go ahead and repeat the measurements over and over again.\n",
    "\n",
    "<img src=\"img/probability_ex3.png\",width=700>\n",
    "\n",
    "\n",
    "We see from the vertical lines that we expect the mean to be somewhere between 4.5 and 5 cm. \n",
    "\n",
    "**This is what probabilistics thinking is all about. Giving a set of data, you describe probabilistically what you might expect if those data were acquired again and again and again. This is the heart of statistical inference. It is the process by which we go from measured data to probabilistic conclusions about what we might expect if we collected the same data again.**\n"
   ]
  },
  {
   "cell_type": "markdown",
   "metadata": {},
   "source": [
    "### What is the goal of statistical inference?\n",
    "Why do we do statistical inference\n",
    "\n",
    "#### Possible Answers\n",
    "> - To draw probabilistic conclusions about what we might expect if we collected the same data again.\n",
    "> - To draw actionable conclusions from data.\n",
    "> - To draw more general conclusions from relatively few data or observations.\n",
    "> - All of these."
   ]
  },
  {
   "cell_type": "markdown",
   "metadata": {},
   "source": [
    "### Why do we use the language of probability?\n",
    "Which of the following is not a reason why we use probabilistic language in statistical inference?\n",
    "\n",
    "#### Possible Answers\n",
    "> - Probability provides a measure of uncertainty.\n",
    "> - Probabilistic language is not very precise.\n",
    "> - Data are almost never exactly the same when acquired again, and probability allows us to say how much we expect them to vary.\n"
   ]
  },
  {
   "cell_type": "markdown",
   "metadata": {},
   "source": [
    "# 2. Random number generators and hacker statistics\n",
    "\n",
    "### Hacker Statistics \n",
    "- Uses simualted repated measurements to compute probabilities\n",
    "\n",
    "### The Coin toss Example\n",
    "\n",
    "We will simualte the outcome of 4 successive coin flips. **Our goal is to compute the probability that we will got four heads out of four flips.**\n",
    "\n",
    "<img src=\"img/4caras.png\", width=300>\n",
    "\n",
    "### ```np.random``` module\n",
    "> - Suite of function based on _random number generation_\n",
    "> - ```np.random.random()```: draw a number between **0** and **1** (all equally probable)\n",
    "\n",
    "<img src=\"img/draw_number.png\", width=400>\n",
    "\n",
    "An experiment that has two option, where the result is either ```True``` (heads, success, 1 in python) r ```False``` (tails, failure, 0 in python), is referred as a [Bernoulli trial](https://en.wikipedia.org/wiki/Bernoulli_trial).\n",
    "\n",
    "### Random number seed\n",
    "> - Integer (called seed) fed into random number generating algorithm \n",
    "> - Manually seed random number generator if you need reproducibility. The same seed gives the same sequence of random numbers, hence the name pseudorandom number generation. \n",
    "\n",
    "### Simulating 4 coin flips\n",
    "\n",
    "<img src=\"img/4coin_code.png\", width=400>\n",
    "\n",
    "We want to know the probability of getting four heads if we were to repeat the four flips over and over again. **We can do this with a for loop:**\n",
    "\n",
    "<img src=\"img/4coin_code_probability.png\", width=400>\n",
    "\n",
    "#### So, what is the probability of getting all four heads?\n",
    "It is the number of times we got all heads, divided by the total number of trials we did.\n",
    "\n",
    "\n",
    "## Hacker stats probabilities procedure\n",
    "> - Determine how to simulate data for an specific problem\n",
    "> - Simulate the data set N times\n",
    "> - Probability is approximately fraction of trials with the outcome of interest\n",
    "\n"
   ]
  },
  {
   "cell_type": "markdown",
   "metadata": {},
   "source": [
    "---\n",
    "# Let's practice!\n",
    "***\n"
   ]
  },
  {
   "cell_type": "markdown",
   "metadata": {},
   "source": [
    "# Exercise 1. Generating random numbers using the ```np.random``` module\n",
    "\n",
    "Let's start by taking its simplest function, np.random.random() for a test spin. The function returns a random number between zero and one. Call np.random.random() a few times in the IPython shell. You should see numbers jumping around between zero and one.\n",
    "\n",
    "In this exercise, we'll generate lots of random numbers between zero and one, and then plot a histogram of the results. If the numbers are truly random, all bars in the histogram should be of (close to) equal height.\n",
    "\n",
    "In the previous section, I generated 4 random numbers by passing the keyword argument ```size=4``` to ```np.random.random()```. Such an approach is more efficient than a for loop: in this exercise, however, you will write a ```for``` loop to experience hacker statistics as the practice of repeating an experiment over and over again.\n",
    "\n",
    "#### Instructions\n",
    "> - Import all necessary modules\n",
    "> - Seed the random number generator using the seed ```42```.\n",
    "> - Initialize an empty array, ```random_numbers```, of 100000 entries to store the random numbers. Make sure you use ```np.empty(100000)``` to do this.\n",
    "> - Write a ```for``` loop to draw 100,000 random numbers using ```np.random.random()```, storing them in the random_numbers array. To do so, loop over ```range(100000)```.\n",
    "> - Plot a histogram of ```random_numbers```. It is not necessary to label the axes in this case because we are just checking the random number generator. "
   ]
  },
  {
   "cell_type": "code",
   "execution_count": null,
   "metadata": {},
   "outputs": [],
   "source": [
    "import numpy as np\n",
    "from matplotlib import pyplot as plt\n",
    "import seaborn as sns\n",
    "sns.set()\n",
    "\n",
    "# Seed the random number generator\n",
    "np.random.seed(......)\n",
    "\n",
    "# Initialize random numbers: random_numbers\n",
    "..... = ....(.....)\n",
    "\n",
    "# Generate random numbers by looping over range(100000)\n",
    "for ...... in .....:\n",
    "    random_numbers[....] = .....\n",
    "\n",
    "# Plot a histogram\n",
    "_ = ...(.......)\n",
    "\n",
    "# Show the plot\n",
    ".....\n"
   ]
  },
  {
   "cell_type": "markdown",
   "metadata": {},
   "source": [
    "# Exercise 2. The ```np.random``` module and Bernoulli trials\n",
    "\n",
    "You can think of a Bernoulli trial as a flip of a possibly biased coin. Specifically, each coin flip has a probability _p_ of landing heads (success) and probability _1−p_ of landing tails (failure). In this exercise, you will write a function to perform ```n``` Bernoulli trials, ```perform_bernoulli_trials(n, p)```, which returns the number of successes out of ```n``` Bernoulli trials, each of which has probability p of success. To perform each Bernoulli trial, use the ```np.random.random()``` function, which returns a random number between zero and one.\n",
    "\n",
    "#### Instructions\n",
    "Define a function with signature ```perform_bernoulli_trials(n, p)```:\n",
    "> * Initialize to zero a variable ```n_success``` the counter of Trues, which are Bernoulli trial successes.\n",
    "> * Write a ```for``` loop where you perform a Bernoulli trial in each iteration and increment the number of success if the result is True. Perform ```n``` iterations by looping over ```range(n)```.\n",
    "> - To perform a Bernoulli trial, choose a random number between zero and one using ```np.random.random()```. If the number you chose is less than ```p```, increment ```n_success``` (use the += 1 operator to achieve this).\n",
    "> - The function returns the number of successes ```n_success```."
   ]
  },
  {
   "cell_type": "code",
   "execution_count": null,
   "metadata": {},
   "outputs": [],
   "source": [
    "def perform_bernoulli_trials(n, p):\n",
    "    \"\"\"Perform n Bernoulli trials with success probability p\n",
    "    and return number of successes.\"\"\"\n",
    "    # Initialize number of successes: n_success\n",
    "    ..... = ....\n",
    "\n",
    "    # Perform trials\n",
    "    for ..... in ......(...):\n",
    "        # Choose random number between zero and one: random_number\n",
    "        random_number = ......\n",
    "\n",
    "        # If less than p, it's a success so add one to n_success\n",
    "        if .... < ...:\n",
    "            ..... +=1\n",
    "    return .....\n"
   ]
  },
  {
   "cell_type": "markdown",
   "metadata": {},
   "source": [
    "# Exercise 3.  How many defaults might we expect?\n",
    "\n",
    "Let's say a bank made 100 mortgage loans (_prestamos hipotecarios_).  It is possible that anywhere between 0 and 100 of the loans will be defaulted upon. You would like to know the probability of getting a given number of defaults, given that the probability of a default is ```p = 0.05```. To investigate this, you will do a simulation. You will perform 100 Bernoulli trials using the ```perform_bernoulli_trials()``` function you wrote in the previous exercise and record how many defaults we get. Here, a success is a default. (Remember that the word \"success\" just means that the Bernoulli trial evaluates to True, i.e., did the loan recipient default?) You will do this for another 100 Bernoulli trials. And again and again until we have tried it 1000 times. Then, you will plot a histogram describing the probability of the number of defaults.\n",
    "\n",
    "#### Instructions\n",
    "> - Seed the random number generator to ```42```.\n",
    "> - Initialize ```n_defaults```, an empty array, using ```np.empty()```. It should contain 1000 entries, since we are doing 1000 simulations.\n",
    "> - Write a ```for``` loop with ```1000``` iterations to compute the number of defaults per 100 loans using the ```perform_bernoulli_trials()``` function. It accepts two arguments: the number of trials ```n``` - in this case 100 - and the probability of success ```p``` - in this case the probability of a default, which is ```0.05```. On each iteration of the loop store the result in an entry of ```n_defaults```.\n",
    "> - Plot a histogram of ```n_defaults```. Include the ```normed=True``` keyword argument so that the height of the bars of the histogram indicate the probability.\n",
    "> - label the x and y axes as _number of defaults out of 100 loans_ and _probability_\n",
    "> - Show your plot.\n"
   ]
  },
  {
   "cell_type": "code",
   "execution_count": null,
   "metadata": {},
   "outputs": [],
   "source": [
    "# Seed random number generator\n",
    ".....\n",
    "\n",
    "# Initialize the number of defaults: n_defaults\n",
    "n_defaults = .....\n",
    "\n",
    "# Compute the number of defaults\n",
    "for ..... :\n",
    "    .... = perform_bernoulli_trials(.... , .....)\n",
    "\n",
    "\n",
    "# Plot the histogram with default number of bins; label your axes\n",
    "\n",
    "\n",
    "# label axes\n",
    "\n",
    "\n",
    "# Show the plot\n"
   ]
  },
  {
   "cell_type": "markdown",
   "metadata": {},
   "source": [
    "# Exercise 4. Do the same without using the function from Ex 1 \n",
    "\n",
    "Function form Ex 1,  ```perform_bernoulli_trials()```, can be writed in one line by using all the power of the numpy arrays objects. \n",
    "\n",
    "#### Instructions\n",
    "> - Seed the random number generator to 42.\n",
    "    > - Initialize ```np_defaults```, an empty array, using ```np.empty_like```. It should contain 1000 entries, since we are doing 1000 simulations.\n",
    "\n",
    "> - Write ```for``` loop with ```100``` iterations to compute the number of defaults per ```100``` loans. For this exercise, on each iteration of hte loop store the sum all success of a simulatneously  generated random array of size 100 (when ```< p```, where ```p =0.05```) in an entry of ```np_defaults```\n",
    "\n",
    "> - Plot in the same canvas, the histogram of ```n_defaults``` and ```np_defaults```. To do it pass a list containing both arrays as an input of the funciton ```hist```. Include the ```normed=True``` keyword argument so that the height of the bars of the histogram indicate the probability."
   ]
  },
  {
   "cell_type": "code",
   "execution_count": null,
   "metadata": {},
   "outputs": [],
   "source": [
    "# initialize np_defaults\n",
    "np_defaults = np.empty_like( ..... )\n",
    "\n",
    "for i in range(1000):\n",
    "    np_defaults[i] = ...( ..... < ... )\n",
    "    \n",
    "    \n",
    "_ = plt.hist( ... , normed=True)\n",
    "\n",
    "plt.show()"
   ]
  },
  {
   "cell_type": "markdown",
   "metadata": {},
   "source": [
    "# Exercise 5.  Compute all statistics known in this part of the course\n",
    "\n",
    "> - mean, median, std, var, corrcoef, ..."
   ]
  },
  {
   "cell_type": "code",
   "execution_count": null,
   "metadata": {},
   "outputs": [],
   "source": []
  },
  {
   "cell_type": "markdown",
   "metadata": {},
   "source": [
    "# Exercise 6. Will the bank fail?\n",
    "\n",
    "Plot the number of defaults you got from the previous exercise, in your namespace as n_defaults, as a CDF. The ecdf() function you wrote in the first section is available.\n",
    "\n",
    "If interest rates are such that the bank will lose money if 10 or more of its loans are defaulted upon, what is the probability that the bank will lose money?\n",
    "\n",
    "#### Instructions\n",
    "> - Compute the _x_ and _y_ values for the ECDF of n_defaults.\n",
    "> - Plot the ECDF, making sure to label the axes. Remember to include marker = '.' and linestyle = 'none' in addition to x and y in your call plt.plot().\n",
    "> - Show the plot.\n",
    "> - Compute the total number of entries in your n_defaults array that were greater than or equal to 10. To do so, compute a boolean array that tells you whether a given entry of n_defaults is >= 10. Then sum all the entries in this array using np.sum(). For example, np.sum(n_defaults <= 5) would compute the number of defaults with 5 or fewer defaults.\n",
    "> - The probability that the bank loses money is the fraction of n_defaults that are greater than or equal to 10. "
   ]
  },
  {
   "cell_type": "code",
   "execution_count": null,
   "metadata": {},
   "outputs": [],
   "source": [
    "def ecdf(data):\n",
    "    \"\"\"Compute ECDF for a one-dimensional array of measurements.\"\"\"\n",
    "    # Number of data points: n\n",
    "    n = len(data)\n",
    "\n",
    "    # x-data for the ECDF: x\n",
    "    x = np.sort(data)\n",
    "\n",
    "    # y-data for the ECDF: y\n",
    "    y = np.arange(1, n+1) / float(n)\n",
    "\n",
    "    return x, y"
   ]
  },
  {
   "cell_type": "code",
   "execution_count": null,
   "metadata": {},
   "outputs": [],
   "source": [
    "# Compute ECDF: x, y\n",
    ".... , ....  = ecdf( ..... )\n",
    "\n",
    "# Plot the ECDF with labeled axes\n",
    "_ = plt.plot( ..... , ..... ,  marker=\".\", markersize=8, color=\"#3c8242\", linestyle=\"none\")\n",
    "\n",
    "# labeling axes\n",
    "\n",
    "\n",
    "# Show the plot\n"
   ]
  },
  {
   "cell_type": "code",
   "execution_count": null,
   "metadata": {},
   "outputs": [],
   "source": [
    "# Compute the number of 100-loan simulations with 10 or more defaults: n_lose_money\n",
    "... = np.sum( ... >= ... )\n",
    "\n",
    "# Compute and print probability of losing money\n",
    "print 'Probability of losing money =', .... / ....\n"
   ]
  },
  {
   "cell_type": "markdown",
   "metadata": {},
   "source": [
    "**As we might expect, we most likey get 5/100 defaults. But we still have about a 2% chance of getting 10 or more defaults out of 100 loans.**"
   ]
  }
 ],
 "metadata": {
  "kernelspec": {
   "display_name": "Python 2",
   "language": "python",
   "name": "python2"
  },
  "language_info": {
   "codemirror_mode": {
    "name": "ipython",
    "version": 2
   },
   "file_extension": ".py",
   "mimetype": "text/x-python",
   "name": "python",
   "nbconvert_exporter": "python",
   "pygments_lexer": "ipython2",
   "version": "2.7.13"
  }
 },
 "nbformat": 4,
 "nbformat_minor": 2
}
