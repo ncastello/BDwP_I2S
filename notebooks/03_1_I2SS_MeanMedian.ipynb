{
 "cells": [
  {
   "cell_type": "markdown",
   "metadata": {
    "collapsed": true
   },
   "source": [
    "# Introduction to Summary Statistics\n",
    "\n",
    "***\n",
    "# 1. The sample ```mean``` and ```median```\n",
    "---\n",
    "\n",
    "\n",
    "We have seen that histograms, bee swarm plots, and ECDFs provide effective summaries of data. But in data science is mandatory to summarize data even more succinctly, say in one or two numbers, at least. These numerical summaries are not by any stretch a substitute for the graphical methods we have been employing, but they do take up a lot less real estate.\n",
    "\n",
    "\n",
    "Let's go back to the elecgtion data from the swing states again. If we could summarize the percentage of the votes for Obama at the county level in Pennylvania in one number, what would we choose?\n",
    "\n",
    "<img src=\"img/beeswarm_plot.png\",width=500>\n",
    "\n",
    "The first number that pops into my mind is **the mean**. The mean is the sum of all the data, divided by the number n of the data points\n",
    "\n",
    "\n",
    "$$\\overline{x} = \\frac{1}{n} \\left( \\sum_{i=1}^{n} x_{i} \\right) = \\frac{x_1+x_2+x_3+\\dots+x_n}{n}$$\n",
    "\n",
    "So, the mean for a given state is just the average percentage of votes over the counties. If we add the means as horizontal lines to the bee swarm plot, we see that they are a reasonable summary of the data.\n",
    "\n",
    "<img src=\"img/swarm_mean_ex.png\",width=500>\n",
    "\n",
    "### ```mean``` with NumPy\n",
    "To compute the mean of a set of data, we call the ```np.mean()``` function. Here used to compute the mean county-level vote for Obama in Pennsylvania\n",
    "\n",
    "```python\n",
    "In [1]: import numpy as np\n",
    "In [2]: np.mean( dem_share_PA )\n",
    "Out[1]: 45.476417910447765\n",
    "```\n",
    "\n",
    "if ```dem_share_PA``` is a ndarray, ```mean``` is an attribute of such objects\n",
    "\n",
    "```python\n",
    "In [1]: dem_share_PA.mean()\n",
    "Out[1]: 45.476417910447765\n",
    "    \n",
    "```\n",
    "\n",
    "### ```mean``` remark\n",
    "- The mean is a useful statistic and easy to calculare, but a major problem is that <font color=\"red\">it is heavily influenced by outliers</font> (i.e. data points whose value is far greater or less than most of the rest of the data)\n",
    "\n",
    "### Solution: the ```median```\n",
    "We might like a summary statistic that is immune to extreme data. The median provides exactly that.\n",
    "\n",
    "**The median is the middle value of a data set.** It is defined by how it is calculated: sort the data and choosing the datum in the middle. Because it is derived from the ranking of sorted data, and not on the values of the data, the median is immune to data that take on extreme values. \n",
    "\n",
    "Here it is displayed on the bee swarm plot:\n",
    "\n",
    "<img src=\"img/swarm_median_ex.png\",width=500>\n",
    "\n",
    "It is not tugged up by the counties with large fraction of votes for Obama (these are only the 17% of the data).\n",
    "\n",
    "\n",
    "### ```median``` with NumPy\n",
    "To compute the **median** of a set of data, we use the ```np.median()``` function. Here used to compute the median county-level vote for Obama in Utah\n",
    "\n",
    "\n",
    "```python\n",
    "In [1]: np.median( dem_share_UT )\n",
    "Out[1]: 22.469999999999999\n",
    "```"
   ]
  },
  {
   "cell_type": "markdown",
   "metadata": {},
   "source": [
    "# Let's see an example\n",
    "---"
   ]
  },
  {
   "cell_type": "markdown",
   "metadata": {},
   "source": [
    "Let's take the data from the 2008 elections in all states.\n",
    "\n",
    "As we said in the last section, a CSV file can be load with several functions. For this exercise, I will use tha package ```pandas``` and read the file by calling the **read_csv** function."
   ]
  },
  {
   "cell_type": "code",
   "execution_count": null,
   "metadata": {
    "scrolled": true
   },
   "outputs": [],
   "source": [
    "import pandas as pd\n",
    "\n",
    "pd_data = pd.read_csv(\"data/2008_all_states.csv\")\n",
    "\n",
    "pd_data.tail(10)"
   ]
  },
  {
   "cell_type": "markdown",
   "metadata": {},
   "source": [
    "Consider the county-level votes for Utah in the 2008 election only"
   ]
  },
  {
   "cell_type": "code",
   "execution_count": null,
   "metadata": {},
   "outputs": [],
   "source": [
    "# loading data into NumPy Arrays\n",
    "mask_state_UT = pd_data['state']==\"UT\"\n",
    "\n",
    "state_UT = pd_data[mask_state_UT]['state']\n",
    "dem_share_UT = pd_data[mask_state_UT]['dem_share']"
   ]
  },
  {
   "cell_type": "markdown",
   "metadata": {},
   "source": [
    "The mean of the democratic share votes in Utah is"
   ]
  },
  {
   "cell_type": "code",
   "execution_count": null,
   "metadata": {},
   "outputs": [],
   "source": [
    "dem_share_UT.mean()"
   ]
  },
  {
   "cell_type": "code",
   "execution_count": null,
   "metadata": {},
   "outputs": [],
   "source": [
    "import numpy as np\n",
    "\n",
    "# can be also compute by calling the mean funciton\n",
    "np.mean( dem_share_UT )"
   ]
  },
  {
   "cell_type": "markdown",
   "metadata": {},
   "source": [
    "# Let's practice!\n",
    "***\n",
    "\n",
    "<div class=\"alert alert-block alert-success\">\n",
    "<b>Loading data.</b> In the following ipython cell, the necessary data set for this section is loaded\n",
    "</div>"
   ]
  },
  {
   "cell_type": "code",
   "execution_count": null,
   "metadata": {},
   "outputs": [],
   "source": [
    "# all packages are already loaded\n",
    "# import numpy as np\n",
    "# from matplotlib import pyplot as plt\n",
    "# import seaborn as sns\n",
    "# sns.set()\n",
    "\n",
    "# Loading data in the namespace\n",
    "# columns info: row,petal length (cm),petal width (cm),sepal length (cm),sepal width (cm),species\n",
    "iris = np.genfromtxt( \"data/iris.csv\", delimiter=\",\", skip_header=1)\n",
    "\n",
    "# Select features for the versicolor type of iris\n",
    "# species info: \n",
    "#       0 for versicolor\n",
    "#       1 for setosa\n",
    "#       2 for virginica\n",
    "versicolor = iris[:,5]== 0\n",
    "versicolor_petal_length = iris[versicolor,1]\n",
    "\n",
    "setosa = iris[:,5]== 1\n",
    "setosa_petal_length = iris[setosa,1]\n",
    "\n",
    "virginica = iris[:,5]== 2\n",
    "virginica_petal_length = iris[virginica,1]"
   ]
  },
  {
   "cell_type": "markdown",
   "metadata": {},
   "source": [
    "<font color=green>\n",
    "# Exercise 1.1 Means and medians\n",
    "</font>\n",
    "Which one of the following statements is true about means and medians?\n",
    "\n",
    "#### Possible Answers\n",
    "> - An outlier can significantly affect the value of both the mean and the median.\n",
    "> - An outlier can significantly affect the value of the mean, but not the median.\n",
    "> - Means and medians are in general both robust to single outliers.\n",
    "> - The mean and median are equal if there is an odd number of data points."
   ]
  },
  {
   "cell_type": "code",
   "execution_count": null,
   "metadata": {},
   "outputs": [],
   "source": [
    "# check it by yourself!\n"
   ]
  },
  {
   "cell_type": "markdown",
   "metadata": {},
   "source": [
    "<font color=green>\n",
    "# Exercise 1.2 1D array: computing means\n",
    "</font>\n",
    "The mean of all measurements gives an indication of the typical magnitude of a measurement.\n",
    "\n",
    "#### Instructions\n",
    "> - Compute the mean petal length of the three Iris species: versicolor_petal_length, setosa_petal_length and virginica_petal_length (already provided in your namespace). Assign the mean to mean_length_vers, mean_length_seto and mean_length_virg, respectively.\n",
    "> - Hit submit to print the result."
   ]
  },
  {
   "cell_type": "code",
   "execution_count": null,
   "metadata": {},
   "outputs": [],
   "source": [
    "# Compute the mean for versicolor_petal_length, setosa_petal_length, virginica_petal_length\n",
    "mean_length_vers = np.mean( ..... )\n",
    "..... = np.mean( ..... )\n",
    "..... = np.mean( ..... )\n",
    "\n",
    "# Print the result with some nice formatting\n",
    "print '\\t Mean. versicolor: {0} , setosa: {1}, and virginica {2} [in cm]'.format(mean_length_vers, \n",
    "                                                                        mean_length_seto, mean_length_virg)\n"
   ]
  },
  {
   "cell_type": "markdown",
   "metadata": {},
   "source": [
    "<font color=green>\n",
    "# Exercise 1.3 ND array: computing means (I)\n",
    "</font>\n",
    "Compute the mean petal length of the **versicolor** iris specie (i.e. value 0) but now using the ```ndarray```  called **iris** (already in your namespace)\n",
    "\n",
    "#### Remember\n",
    "> - iris is a matrix of 150 rows with 6 columns\n",
    "> - the feature **petal length** is stored in the second column\n",
    "> - the feature **species** in the last column\n",
    "\n",
    "#### Instructions\n",
    "> - Create a mask to select only those rows that are classified as **versicolor**. Assign the mask to ma_versicolor\n",
    "> - Compute the mean petal length. Assign the mean to mean_length_petal_vers\n",
    "> - Print the result from this exercise, and the previous one, to compare it"
   ]
  },
  {
   "cell_type": "code",
   "execution_count": null,
   "metadata": {},
   "outputs": [],
   "source": [
    "# versicolor: column 5 equal to 0\n",
    "ma_versicolor = ....[.... , ....] == 0\n",
    "\n",
    "# compute the petal length mean of this subset, petal length is column index 1\n",
    "mean_length_petal_vers = ....[.... , .... ].mean()\n",
    "\n",
    "# print out\n",
    "print \"\\t Mean for the versicolor {0} and from last exercise {1} \".format(mean_length_petal_vers, \n",
    "                                                                          mean_length_vers)"
   ]
  },
  {
   "cell_type": "code",
   "execution_count": null,
   "metadata": {},
   "outputs": [],
   "source": [
    "# alternative way to compute it\n",
    "np.mean( iris[ma_versicolor, 1] )"
   ]
  },
  {
   "cell_type": "markdown",
   "metadata": {},
   "source": [
    "<font color=green>\n",
    "# Exercise 1.3 ND array: computing means (II)\n",
    "</font>\n",
    "<div class=\"alert alert-block alert-info\">\n",
    "<b>Note:</b> Using the function ```np.mean()``` you can compute the mean of all the attributes of this subset (or any other subset) in only one step.\n",
    "</div>\n",
    "\n",
    "```python\n",
    "np.mean( iris[ma_versicolor], axis=0 )\n",
    "\n",
    "```\n",
    "#### Instructions\n",
    "> - Copy this code in the ipython cell and try to understand it. \n",
    "> - Do the same, but now for the setosa and virginica Iris specie (i.e. value 1, and 2 respectively)"
   ]
  },
  {
   "cell_type": "code",
   "execution_count": null,
   "metadata": {},
   "outputs": [],
   "source": [
    "# in one way you have the mean of all afeatures/attributes for this specie\n",
    "np.mean( iris[ma_versicolor], axis=0 )"
   ]
  },
  {
   "cell_type": "markdown",
   "metadata": {},
   "source": [
    "<font color=green>\n",
    "# Exercise 1.4 Computing medians\n",
    "</font>\n",
    "The median is the middle value of a data set.\n",
    "\n",
    "#### Instructions\n",
    "> - Compute the median petal length of the three Iris species: versicolor_petal_length, setosa_petal_length and virginica_petal_length (already provided in your namespace). Assign the median to median_length_vers, median_length_seto and median_length_virg, respectively.\n",
    "> - Hit submit to print the result."
   ]
  },
  {
   "cell_type": "code",
   "execution_count": null,
   "metadata": {},
   "outputs": [],
   "source": [
    "# Compute the median for versicolor_petal_length, setosa_petal_length, virginica_petal_length\n",
    "median_length_vers = np.median( .... )\n",
    ".... = np.median( .... )\n",
    ".... = np.median( .... )\n",
    "\n",
    "# Print the result with some nice formatting\n",
    "print '\\t Median. versicolor: {0} , setosa: {1}, and virginica {2} [in cm]'.format(median_length_vers, \n",
    "                                                                        median_length_seto, median_length_virg)\n"
   ]
  },
  {
   "cell_type": "markdown",
   "metadata": {},
   "source": [
    "<font color=green>\n",
    "# Exercise 1.5 Computing means without using ```np.mean```\n",
    "</font>\n",
    "Design your own code to compute the media and the mean values of the petal length of the three Iris species:\n",
    "\n",
    "\n",
    "#### Instructions\n",
    "> - Compute the mean petal length of the three Iris species: ```versicolor_petal_length```, ```setosa_petal_length``` and ```virginica_petal_length``` (already provided in your namespace).\n",
    "> - Print the result and compare it with results from Ex 2."
   ]
  },
  {
   "cell_type": "code",
   "execution_count": null,
   "metadata": {},
   "outputs": [],
   "source": [
    "# define a function to compute the mean value\n",
    "def my_mean(data):\n",
    "    \n",
    "    # size of the data array as float\n",
    "    .... = float(len(data))\n",
    "    \n",
    "    # initialize the _mean value to 0\n",
    "    _mean = 0\n",
    "    \n",
    "    # for each value in data, add it to the _mean value: a = a+b, can also be written as a+=b\n",
    "    for .... in .....:\n",
    "        .... += ....\n",
    "    \n",
    "    # return the mean value divided by the size of data array\n",
    "    return _mean/n\n",
    "\n",
    "# print out the mean for the three species\n",
    "print \"\\t petal length mean of versicolor, setosa and virginica is {0},{1} and {2}, respectively \".format(\n",
    "    my_mean(versicolor_petal_length) , my_mean( .... ), my_mean( .... ) )"
   ]
  },
  {
   "cell_type": "markdown",
   "metadata": {},
   "source": [
    "<font color=green>\n",
    "# Exercise 1.6 Computing median without using ```np.median```\n",
    "</font>\n",
    "Design your own code to compute the media and the mean values of the petal length of the three Iris species:\n",
    "\n",
    "\n",
    "#### Instructions\n",
    "> - Compute the median petal length of the three Iris species: ```versicolor_petal_length```, ```setosa_petal_length``` and ```virginica_petal_length``` (already provided in your namespace). \n",
    "> - Print the result."
   ]
  },
  {
   "cell_type": "code",
   "execution_count": null,
   "metadata": {},
   "outputs": [],
   "source": [
    "# do the same but now computing the median value of \n",
    "#                         versicolor_petal_length, setosa_petal_length and virginica_petal_length \n",
    "def my_median(...):\n",
    "    \n",
    "    # size of the input array\n",
    "    ... = len(...)\n",
    "    \n",
    "    # half size\n",
    "    halfn = n/2\n",
    "\n",
    "    # before to search for the value at the middle of the array, we must sort it!\n",
    "    data = np.sort(...)  \n",
    "    \n",
    "    if not n%2:\n",
    "        # if even: median is the value of data at index half\n",
    "        _median = ...[....]\n",
    "    else:\n",
    "        # if odd, median is defined as the mean of the values with index halfn-1 and halfn\n",
    "        _median = np.mean(  [ data[halfn-1] , ...[...] ]  )\n",
    "\n",
    "    # return median value\n",
    "    return _median\n",
    "            \n",
    "print \"\\t petal length median of versicolor \", my_median( versicolor_petal_length ), \" in cm\"\n",
    "print \"\\t petal length median of setosa \", ....( .... ), \" in cm\"\n",
    "print \"\\t petal length median of virginica \", ....( .... ), \" in cm\""
   ]
  }
 ],
 "metadata": {
  "kernelspec": {
   "display_name": "Python 2",
   "language": "python",
   "name": "python2"
  },
  "language_info": {
   "codemirror_mode": {
    "name": "ipython",
    "version": 2
   },
   "file_extension": ".py",
   "mimetype": "text/x-python",
   "name": "python",
   "nbconvert_exporter": "python",
   "pygments_lexer": "ipython2",
   "version": "2.7.13"
  }
 },
 "nbformat": 4,
 "nbformat_minor": 2
}
